{
 "cells": [
  {
   "cell_type": "markdown",
   "metadata": {},
   "source": [
    "# Merger fractions against galaxy separation for volume limited Galaxy Zoo 1 and Galaxy Zoo 2 sample\n",
    "\n",
    "In this notebook we use Galaxy Zoo 1 (GZ1) and Galaxy Zoo 2 (GZ2) data which has been matched to group data from Yang. We calculate the separation of the nearest neighbour within a group for each galaxy and plot the merger fraction against separatino. We bin our data by attempting to have the same number of galaxies in each bin.\n",
    "\n",
    "For this notebook we volume limit our sample of galaxies, recalculating the group size for galaxies in the volume limit.\n",
    "\n",
    "The GZ1 and GZ2 data can be found at https://data.galaxyzoo.org/\n",
    "<br>\n",
    "Information on Data Release 7 (DR7) of the Sloan Digital Sky Survery (SDSS) can be found at https://classic.sdss.org/dr7/\n",
    "<br>\n",
    "The Yang group data can be found at https://gax.sjtu.edu.cn/data/Group.html\n",
    "\n",
    "#### Data\n",
    "There are 4 different data sets we are using from the GZ data page. For GZ1 we are using \"Table 2\", which are galaxies from the entire GZ1 data set with spectra available in SDSS DR7 and \"Table 3\", which are galaxies from the entire GZ1 data set with no spectra available in SDSS DR7. These have 667,944 and 225,268 galaxies in them respectively.\n",
    "<br>\n",
    "For GZ1 we are using \"Table 5\", which are galaxies from the main GZ2 sample spectroscopic redshifts available in SDSS DR7 and \"Table 6\", which are galaxies from the main GZ2 sample with only photometric redshifts available in SDSS DR7. These have 243,500 and 42,462 galaxies in them respectively.\n",
    "<br>\n",
    "We use Yang Catalogue \"PetroC\" containing 639,359 galaxies and 473,872 groups.\n",
    "\n",
    "#### Matching GZ1, GZ2 and Yang\n",
    "The Yang data set covers redshifts $0.01 \\leq z \\leq 0.2$, whereas GZ1 and GZ2 cover a greater redshift range. Hence we expect to lose some galaxies when we match the GZ1&2 data to the Yang catalogue. We match the GZ1&2 data to the Yang data by right-ascension (ra) and declination (dec) with a maximum error in position of 5 arcsec, preferentially choosing galaxies with spectra available if both a galaxy from the spectroscopic data and from the photometric data match to the same Yang galaxy.\n",
    "\n",
    "The total number of matches in Yang for each of the 4 galaxy zoo data sets are:\n",
    "\n",
    "- GZ1 spectroscopic: 586,594 galaxies\n",
    "- GZ1 photometric: 42,197 galaxies\n",
    "- GZ2 spectroscopic: 233,767 galaxies\n",
    "- GZ2 photometric: 19,451 galaxies\n",
    "\n",
    "In total there are 628,791 galaxies in Yang with GZ1 data and 253,218 galaxies in Yang with GZ2 data, with 629,365 galaxies from Yang having either GZ1 or GZ2 data and 252,644 galaxies with both GZ1 and GZ2 data.\n",
    "\n",
    "From now on we shall refer to the Yang group data set of 639,359 galaxies as Yang, and the matched GZ1&2 and Yang data sets as GZ1 and GZ2."
   ]
  },
  {
   "cell_type": "markdown",
   "metadata": {},
   "source": [
    "### Importing the data\n",
    "First we import the necessary packages and import the data into an Astropy Table \"all_data\".\n",
    "\n",
    "We display the head of the table to get an idea of what the data looks like."
   ]
  },
  {
   "cell_type": "code",
   "execution_count": 1,
   "metadata": {
    "scrolled": false
   },
   "outputs": [
    {
     "data": {
      "text/html": [
       "<i>Table length=5</i>\n",
       "<table id=\"table1931133485640\" class=\"table-striped table-bordered table-condensed\">\n",
       "<thead><tr><th>galaxy ID</th><th>NYU-VAGC ID object ID</th><th>ra_galaxy</th><th>dec_galaxy</th><th>z_galaxy</th><th>apparent magnitude r_band</th><th>magnitude limit r_band</th><th>completeness</th><th>col9 Petro</th><th>col10 Petro</th><th>col11 Model</th><th>col12 Model</th><th>redshift source type</th><th>group id</th><th>brightest galaxy</th><th>most massive galaxy</th><th>RA_group</th><th>dec_group</th><th>z_group</th><th>group L_-19.5 log L_odoth2</th><th>group stellar mass</th><th>halo mass1</th><th>halo mass2</th><th>mean separation brighter</th><th>mean separation massive</th><th>f_edge</th><th>ID1</th><th>ID2</th><th>group_size</th><th>OBJID_GZ1</th><th>RA_GZ1</th><th>DEC_GZ1</th><th>NVOTE_GZ1</th><th>P_EL</th><th>P_CW</th><th>P_ACW</th><th>P_EDGE</th><th>P_DK</th><th>P_MG</th><th>P_CS</th><th>P_EL_DEBIASED</th><th>P_CS_DEBIASED</th><th>SPIRAL</th><th>ELLIPTICAL</th><th>UNCERTAIN</th><th>U_GZ1</th><th>G_GZ1</th><th>R_GZ1</th><th>I_GZ1</th><th>Z_GZ1</th><th>UERR_GZ1</th><th>GERR_GZ1</th><th>RERR_GZ1</th><th>IERR_GZ1</th><th>ZERR_GZ1</th><th>R50_ARCSEC_GZ1</th><th>R90_ARCSEC_GZ1</th><th>REDSHIFT_GZ1</th><th>REDSHIFTERR_GZ1</th><th>REDSHIFTCONF_GZ1</th><th>MU_GZ1</th><th>MG_GZ1</th><th>MR_GZ1</th><th>MI_GZ1</th><th>MZ_GZ1</th><th>MUERR_GZ1</th><th>MGERR_GZ1</th><th>MRERR_GZ1</th><th>MIERR_GZ1</th><th>MZERR_GZ1</th><th>R50_KPC_GZ1</th><th>specobjid_GZ2</th><th>dr8objid_GZ2</th><th>dr7objid_GZ2</th><th>ra_GZ2</th><th>dec_GZ2</th><th>rastring_GZ2</th><th>decstring_GZ2</th><th>sample_GZ2</th><th>gz2class</th><th>total_classifications_GZ2</th><th>total_votes_GZ2</th><th>t01_smooth_or_features_a01_smooth_count</th><th>t01_smooth_or_features_a01_smooth_weight</th><th>t01_smooth_or_features_a01_smooth_fraction</th><th>t01_smooth_or_features_a01_smooth_weighted_fraction</th><th>t01_smooth_or_features_a01_smooth_debiased</th><th>t01_smooth_or_features_a01_smooth_flag</th><th>t01_smooth_or_features_a02_features_or_disk_count</th><th>t01_smooth_or_features_a02_features_or_disk_weight</th><th>t01_smooth_or_features_a02_features_or_disk_fraction</th><th>t01_smooth_or_features_a02_features_or_disk_weighted_fraction</th><th>t01_smooth_or_features_a02_features_or_disk_debiased</th><th>t01_smooth_or_features_a02_features_or_disk_flag</th><th>t01_smooth_or_features_a03_star_or_artifact_count</th><th>t01_smooth_or_features_a03_star_or_artifact_weight</th><th>t01_smooth_or_features_a03_star_or_artifact_fraction</th><th>t01_smooth_or_features_a03_star_or_artifact_weighted_fraction</th><th>t01_smooth_or_features_a03_star_or_artifact_debiased</th><th>t01_smooth_or_features_a03_star_or_artifact_flag</th><th>t02_edgeon_a04_yes_count</th><th>t02_edgeon_a04_yes_weight</th><th>t02_edgeon_a04_yes_fraction</th><th>t02_edgeon_a04_yes_weighted_fraction</th><th>t02_edgeon_a04_yes_debiased</th><th>t02_edgeon_a04_yes_flag</th><th>t02_edgeon_a05_no_count</th><th>t02_edgeon_a05_no_weight</th><th>t02_edgeon_a05_no_fraction</th><th>t02_edgeon_a05_no_weighted_fraction</th><th>t02_edgeon_a05_no_debiased</th><th>t02_edgeon_a05_no_flag</th><th>t03_bar_a06_bar_count</th><th>t03_bar_a06_bar_weight</th><th>t03_bar_a06_bar_fraction</th><th>t03_bar_a06_bar_weighted_fraction</th><th>t03_bar_a06_bar_debiased</th><th>t03_bar_a06_bar_flag</th><th>t03_bar_a07_no_bar_count</th><th>t03_bar_a07_no_bar_weight</th><th>t03_bar_a07_no_bar_fraction</th><th>t03_bar_a07_no_bar_weighted_fraction</th><th>t03_bar_a07_no_bar_debiased</th><th>t03_bar_a07_no_bar_flag</th><th>t04_spiral_a08_spiral_count</th><th>t04_spiral_a08_spiral_weight</th><th>t04_spiral_a08_spiral_fraction</th><th>t04_spiral_a08_spiral_weighted_fraction</th><th>t04_spiral_a08_spiral_debiased</th><th>t04_spiral_a08_spiral_flag</th><th>t04_spiral_a09_no_spiral_count</th><th>t04_spiral_a09_no_spiral_weight</th><th>t04_spiral_a09_no_spiral_fraction</th><th>t04_spiral_a09_no_spiral_weighted_fraction</th><th>t04_spiral_a09_no_spiral_debiased</th><th>t04_spiral_a09_no_spiral_flag</th><th>t05_bulge_prominence_a10_no_bulge_count</th><th>t05_bulge_prominence_a10_no_bulge_weight</th><th>t05_bulge_prominence_a10_no_bulge_fraction</th><th>t05_bulge_prominence_a10_no_bulge_weighted_fraction</th><th>t05_bulge_prominence_a10_no_bulge_debiased</th><th>t05_bulge_prominence_a10_no_bulge_flag</th><th>t05_bulge_prominence_a11_just_noticeable_count</th><th>t05_bulge_prominence_a11_just_noticeable_weight</th><th>t05_bulge_prominence_a11_just_noticeable_fraction</th><th>t05_bulge_prominence_a11_just_noticeable_weighted_fraction</th><th>t05_bulge_prominence_a11_just_noticeable_debiased</th><th>t05_bulge_prominence_a11_just_noticeable_flag</th><th>t05_bulge_prominence_a12_obvious_count</th><th>t05_bulge_prominence_a12_obvious_weight</th><th>t05_bulge_prominence_a12_obvious_fraction</th><th>t05_bulge_prominence_a12_obvious_weighted_fraction</th><th>t05_bulge_prominence_a12_obvious_debiased</th><th>t05_bulge_prominence_a12_obvious_flag</th><th>t05_bulge_prominence_a13_dominant_count</th><th>t05_bulge_prominence_a13_dominant_weight</th><th>t05_bulge_prominence_a13_dominant_fraction</th><th>t05_bulge_prominence_a13_dominant_weighted_fraction</th><th>t05_bulge_prominence_a13_dominant_debiased</th><th>t05_bulge_prominence_a13_dominant_flag</th><th>t06_odd_a14_yes_count</th><th>t06_odd_a14_yes_weight</th><th>t06_odd_a14_yes_fraction</th><th>t06_odd_a14_yes_weighted_fraction</th><th>t06_odd_a14_yes_debiased</th><th>t06_odd_a14_yes_flag</th><th>t06_odd_a15_no_count</th><th>t06_odd_a15_no_weight</th><th>t06_odd_a15_no_fraction</th><th>t06_odd_a15_no_weighted_fraction</th><th>t06_odd_a15_no_debiased</th><th>t06_odd_a15_no_flag</th><th>t07_rounded_a16_completely_round_count</th><th>t07_rounded_a16_completely_round_weight</th><th>t07_rounded_a16_completely_round_fraction</th><th>t07_rounded_a16_completely_round_weighted_fraction</th><th>t07_rounded_a16_completely_round_debiased</th><th>t07_rounded_a16_completely_round_flag</th><th>t07_rounded_a17_in_between_count</th><th>t07_rounded_a17_in_between_weight</th><th>t07_rounded_a17_in_between_fraction</th><th>t07_rounded_a17_in_between_weighted_fraction</th><th>t07_rounded_a17_in_between_debiased</th><th>t07_rounded_a17_in_between_flag</th><th>t07_rounded_a18_cigar_shaped_count</th><th>t07_rounded_a18_cigar_shaped_weight</th><th>t07_rounded_a18_cigar_shaped_fraction</th><th>t07_rounded_a18_cigar_shaped_weighted_fraction</th><th>t07_rounded_a18_cigar_shaped_debiased</th><th>t07_rounded_a18_cigar_shaped_flag</th><th>t08_odd_feature_a19_ring_count</th><th>t08_odd_feature_a19_ring_weight</th><th>t08_odd_feature_a19_ring_fraction</th><th>t08_odd_feature_a19_ring_weighted_fraction</th><th>t08_odd_feature_a19_ring_debiased</th><th>t08_odd_feature_a19_ring_flag</th><th>t08_odd_feature_a20_lens_or_arc_count</th><th>t08_odd_feature_a20_lens_or_arc_weight</th><th>t08_odd_feature_a20_lens_or_arc_fraction</th><th>t08_odd_feature_a20_lens_or_arc_weighted_fraction</th><th>t08_odd_feature_a20_lens_or_arc_debiased</th><th>t08_odd_feature_a20_lens_or_arc_flag</th><th>t08_odd_feature_a21_disturbed_count</th><th>t08_odd_feature_a21_disturbed_weight</th><th>t08_odd_feature_a21_disturbed_fraction</th><th>t08_odd_feature_a21_disturbed_weighted_fraction</th><th>t08_odd_feature_a21_disturbed_debiased</th><th>t08_odd_feature_a21_disturbed_flag</th><th>t08_odd_feature_a22_irregular_count</th><th>t08_odd_feature_a22_irregular_weight</th><th>t08_odd_feature_a22_irregular_fraction</th><th>t08_odd_feature_a22_irregular_weighted_fraction</th><th>t08_odd_feature_a22_irregular_debiased</th><th>t08_odd_feature_a22_irregular_flag</th><th>t08_odd_feature_a23_other_count</th><th>t08_odd_feature_a23_other_weight</th><th>t08_odd_feature_a23_other_fraction</th><th>t08_odd_feature_a23_other_weighted_fraction</th><th>t08_odd_feature_a23_other_debiased</th><th>t08_odd_feature_a23_other_flag</th><th>t08_odd_feature_a24_merger_count</th><th>t08_odd_feature_a24_merger_weight</th><th>t08_odd_feature_a24_merger_fraction</th><th>t08_odd_feature_a24_merger_weighted_fraction</th><th>t08_odd_feature_a24_merger_debiased</th><th>t08_odd_feature_a24_merger_flag</th><th>t08_odd_feature_a38_dust_lane_count</th><th>t08_odd_feature_a38_dust_lane_weight</th><th>t08_odd_feature_a38_dust_lane_fraction</th><th>t08_odd_feature_a38_dust_lane_weighted_fraction</th><th>t08_odd_feature_a38_dust_lane_debiased</th><th>t08_odd_feature_a38_dust_lane_flag</th><th>t09_bulge_shape_a25_rounded_count</th><th>t09_bulge_shape_a25_rounded_weight</th><th>t09_bulge_shape_a25_rounded_fraction</th><th>t09_bulge_shape_a25_rounded_weighted_fraction</th><th>t09_bulge_shape_a25_rounded_debiased</th><th>t09_bulge_shape_a25_rounded_flag</th><th>t09_bulge_shape_a26_boxy_count</th><th>t09_bulge_shape_a26_boxy_weight</th><th>t09_bulge_shape_a26_boxy_fraction</th><th>t09_bulge_shape_a26_boxy_weighted_fraction</th><th>t09_bulge_shape_a26_boxy_debiased</th><th>t09_bulge_shape_a26_boxy_flag</th><th>t09_bulge_shape_a27_no_bulge_count</th><th>t09_bulge_shape_a27_no_bulge_weight</th><th>t09_bulge_shape_a27_no_bulge_fraction</th><th>t09_bulge_shape_a27_no_bulge_weighted_fraction</th><th>t09_bulge_shape_a27_no_bulge_debiased</th><th>t09_bulge_shape_a27_no_bulge_flag</th><th>t10_arms_winding_a28_tight_count</th><th>t10_arms_winding_a28_tight_weight</th><th>t10_arms_winding_a28_tight_fraction</th><th>t10_arms_winding_a28_tight_weighted_fraction</th><th>t10_arms_winding_a28_tight_debiased</th><th>t10_arms_winding_a28_tight_flag</th><th>t10_arms_winding_a29_medium_count</th><th>t10_arms_winding_a29_medium_weight</th><th>t10_arms_winding_a29_medium_fraction</th><th>t10_arms_winding_a29_medium_weighted_fraction</th><th>t10_arms_winding_a29_medium_debiased</th><th>t10_arms_winding_a29_medium_flag</th><th>t10_arms_winding_a30_loose_count</th><th>t10_arms_winding_a30_loose_weight</th><th>t10_arms_winding_a30_loose_fraction</th><th>t10_arms_winding_a30_loose_weighted_fraction</th><th>t10_arms_winding_a30_loose_debiased</th><th>t10_arms_winding_a30_loose_flag</th><th>t11_arms_number_a31_1_count</th><th>t11_arms_number_a31_1_weight</th><th>t11_arms_number_a31_1_fraction</th><th>t11_arms_number_a31_1_weighted_fraction</th><th>t11_arms_number_a31_1_debiased</th><th>t11_arms_number_a31_1_flag</th><th>t11_arms_number_a32_2_count</th><th>t11_arms_number_a32_2_weight</th><th>t11_arms_number_a32_2_fraction</th><th>t11_arms_number_a32_2_weighted_fraction</th><th>t11_arms_number_a32_2_debiased</th><th>t11_arms_number_a32_2_flag</th><th>t11_arms_number_a33_3_count</th><th>t11_arms_number_a33_3_weight</th><th>t11_arms_number_a33_3_fraction</th><th>t11_arms_number_a33_3_weighted_fraction</th><th>t11_arms_number_a33_3_debiased</th><th>t11_arms_number_a33_3_flag</th><th>t11_arms_number_a34_4_count</th><th>t11_arms_number_a34_4_weight</th><th>t11_arms_number_a34_4_fraction</th><th>t11_arms_number_a34_4_weighted_fraction</th><th>t11_arms_number_a34_4_debiased</th><th>t11_arms_number_a34_4_flag</th><th>t11_arms_number_a36_more_than_4_count</th><th>t11_arms_number_a36_more_than_4_weight</th><th>t11_arms_number_a36_more_than_4_fraction</th><th>t11_arms_number_a36_more_than_4_weighted_fraction</th><th>t11_arms_number_a36_more_than_4_debiased</th><th>t11_arms_number_a36_more_than_4_flag</th><th>t11_arms_number_a37_cant_tell_count</th><th>t11_arms_number_a37_cant_tell_weight</th><th>t11_arms_number_a37_cant_tell_fraction</th><th>t11_arms_number_a37_cant_tell_weighted_fraction</th><th>t11_arms_number_a37_cant_tell_debiased</th><th>t11_arms_number_a37_cant_tell_flag</th><th>PETROR50_R_GZ2</th><th>PETROR90_R_GZ2</th><th>PETROMAG_U_GZ2</th><th>PETROMAG_G_GZ2</th><th>PETROMAG_R_GZ2</th><th>PETROMAG_I_GZ2</th><th>PETROMAG_Z_GZ2</th><th>PETROMAGERR_U_GZ2</th><th>PETROMAGERR_G_GZ2</th><th>PETROMAGERR_R_GZ2</th><th>PETROMAGERR_I_GZ2</th><th>PETROMAGERR_Z_GZ2</th><th>EXTINCTION_U_GZ2</th><th>EXTINCTION_G_GZ2</th><th>EXTINCTION_R_GZ2</th><th>EXTINCTION_I_GZ2</th><th>EXTINCTION_Z_GZ2</th><th>REDSHIFT_GZ2</th><th>REDSHIFTERR_GZ2</th><th>PETROMAG_MU_GZ2</th><th>PETROMAG_MG_GZ2</th><th>PETROMAG_MR_GZ2</th><th>PETROMAG_MI_GZ2</th><th>PETROMAG_MZ_GZ2</th><th>PETROMAGERR_MU_GZ2</th><th>PETROMAGERR_MG_GZ2</th><th>PETROMAGERR_MR_GZ2</th><th>PETROMAGERR_MI_GZ2</th><th>PETROMAGERR_MZ_GZ2</th><th>PETROR50_R_KPC_GZ2</th><th>Yang_GZ1_Separation</th><th>Yang_GZ2_Separation</th><th>GZ1_SpectroZ</th><th>GZ1_PhotoZ</th><th>GZ1</th><th>GZ2_SpectroZ</th><th>GZ2_PhotoZ</th><th>GZ2</th><th>z_new</th><th>zErr_new</th><th>specObjID_new</th><th>Best_redshift</th><th>Best_Mr</th><th>group_id_new</th><th>group_size_new</th><th>Best_redshift_new</th><th>Best_Mr_new</th></tr></thead>\n",
       "<thead><tr><th>int32</th><th>int32</th><th>float64</th><th>float64</th><th>float64</th><th>float64</th><th>float64</th><th>float64</th><th>float64</th><th>float64</th><th>float64</th><th>float64</th><th>int16</th><th>int32</th><th>int16</th><th>int16</th><th>float64</th><th>float64</th><th>float64</th><th>float32</th><th>float32</th><th>float32</th><th>float32</th><th>float64</th><th>float64</th><th>float32</th><th>int16</th><th>int16</th><th>int64</th><th>int64</th><th>float64</th><th>float64</th><th>int16</th><th>float32</th><th>float32</th><th>float32</th><th>float32</th><th>float32</th><th>float32</th><th>float32</th><th>float32</th><th>float32</th><th>int16</th><th>int16</th><th>int16</th><th>float64</th><th>float64</th><th>float64</th><th>float64</th><th>float64</th><th>float64</th><th>float64</th><th>float64</th><th>float64</th><th>float64</th><th>float64</th><th>float64</th><th>float64</th><th>float64</th><th>float64</th><th>float32</th><th>float32</th><th>float32</th><th>float32</th><th>float32</th><th>float32</th><th>float32</th><th>float32</th><th>float32</th><th>float32</th><th>float32</th><th>int64</th><th>int64</th><th>int64</th><th>float32</th><th>float32</th><th>str11</th><th>str11</th><th>str20</th><th>str20</th><th>int16</th><th>int16</th><th>int16</th><th>float32</th><th>float32</th><th>float32</th><th>float32</th><th>int16</th><th>int16</th><th>float32</th><th>float32</th><th>float32</th><th>float32</th><th>int16</th><th>int16</th><th>float32</th><th>float32</th><th>float32</th><th>float32</th><th>int16</th><th>int16</th><th>float32</th><th>float32</th><th>float32</th><th>float32</th><th>int16</th><th>int16</th><th>float32</th><th>float32</th><th>float32</th><th>float32</th><th>int16</th><th>int16</th><th>float32</th><th>float32</th><th>float32</th><th>float32</th><th>int16</th><th>int16</th><th>float32</th><th>float32</th><th>float32</th><th>float32</th><th>int16</th><th>int16</th><th>float32</th><th>float32</th><th>float32</th><th>float32</th><th>int16</th><th>int16</th><th>float32</th><th>float32</th><th>float32</th><th>float32</th><th>int16</th><th>int16</th><th>float32</th><th>float32</th><th>float32</th><th>float32</th><th>int16</th><th>int16</th><th>float32</th><th>float32</th><th>float32</th><th>float32</th><th>int16</th><th>int16</th><th>float32</th><th>float32</th><th>float32</th><th>float32</th><th>int16</th><th>int16</th><th>float32</th><th>float32</th><th>float32</th><th>float32</th><th>int16</th><th>int16</th><th>float32</th><th>float32</th><th>float32</th><th>float32</th><th>int16</th><th>int16</th><th>float32</th><th>float32</th><th>float32</th><th>float32</th><th>int16</th><th>int16</th><th>float32</th><th>float32</th><th>float32</th><th>float32</th><th>int16</th><th>int16</th><th>float32</th><th>float32</th><th>float32</th><th>float32</th><th>int16</th><th>int16</th><th>float32</th><th>float32</th><th>float32</th><th>float32</th><th>int16</th><th>int16</th><th>float32</th><th>float32</th><th>float32</th><th>float32</th><th>int16</th><th>int16</th><th>float32</th><th>float32</th><th>float32</th><th>float32</th><th>int16</th><th>int16</th><th>float32</th><th>float32</th><th>float32</th><th>float32</th><th>int16</th><th>int16</th><th>float32</th><th>float32</th><th>float32</th><th>float32</th><th>int16</th><th>int16</th><th>float32</th><th>float32</th><th>float32</th><th>float32</th><th>int16</th><th>int16</th><th>float32</th><th>float32</th><th>float32</th><th>float32</th><th>int16</th><th>int16</th><th>float32</th><th>float32</th><th>float32</th><th>float32</th><th>int16</th><th>int16</th><th>float32</th><th>float32</th><th>float32</th><th>float32</th><th>int16</th><th>int16</th><th>float32</th><th>float32</th><th>float32</th><th>float32</th><th>int16</th><th>int16</th><th>float32</th><th>float32</th><th>float32</th><th>float32</th><th>int16</th><th>int16</th><th>float32</th><th>float32</th><th>float32</th><th>float32</th><th>int16</th><th>int16</th><th>float32</th><th>float32</th><th>float32</th><th>float32</th><th>int16</th><th>int16</th><th>float32</th><th>float32</th><th>float32</th><th>float32</th><th>int16</th><th>int16</th><th>float32</th><th>float32</th><th>float32</th><th>float32</th><th>int16</th><th>int16</th><th>float32</th><th>float32</th><th>float32</th><th>float32</th><th>int16</th><th>int16</th><th>float32</th><th>float32</th><th>float32</th><th>float32</th><th>int16</th><th>int16</th><th>float32</th><th>float32</th><th>float32</th><th>float32</th><th>int16</th><th>int16</th><th>float32</th><th>float32</th><th>float32</th><th>float32</th><th>int16</th><th>int16</th><th>float32</th><th>float32</th><th>float32</th><th>float32</th><th>int16</th><th>float32</th><th>float32</th><th>float32</th><th>float32</th><th>float32</th><th>float32</th><th>float32</th><th>float32</th><th>float32</th><th>float32</th><th>float32</th><th>float32</th><th>float32</th><th>float32</th><th>float32</th><th>float32</th><th>float32</th><th>float32</th><th>float32</th><th>float32</th><th>float32</th><th>float32</th><th>float32</th><th>float32</th><th>float32</th><th>float32</th><th>float32</th><th>float32</th><th>float32</th><th>float32</th><th>float64</th><th>float64</th><th>int16</th><th>int16</th><th>int16</th><th>int16</th><th>int16</th><th>int16</th><th>float64</th><th>float64</th><th>int64</th><th>float64</th><th>float64</th><th>int32</th><th>int64</th><th>float64</th><th>float64</th></tr></thead>\n",
       "<tr><td>1</td><td>750</td><td>38.049132677</td><td>0.224026085</td><td>0.0540216</td><td>15.9390697</td><td>17.6200008</td><td>0.994186</td><td>-20.207098</td><td>0.906209</td><td>-20.075325</td><td>0.934289</td><td>1</td><td>67926</td><td>1</td><td>1</td><td>38.04913268</td><td>0.22402609</td><td>0.0540216</td><td>9.9868</td><td>10.4001</td><td>11.9938</td><td>12.0956</td><td>6.2305</td><td>6.6916</td><td>1.0</td><td>1</td><td>1</td><td>1</td><td>587731513151062160</td><td>38.04904805088994</td><td>0.2240263613937332</td><td>33</td><td>0.909</td><td>0.03</td><td>0.0</td><td>0.03</td><td>0.03</td><td>0.0</td><td>0.061</td><td>0.876</td><td>0.094</td><td>0</td><td>0</td><td>1</td><td>18.4493465423584</td><td>16.73442268371582</td><td>15.929215431213379</td><td>15.528484344482422</td><td>15.32966136932373</td><td>0.10201934725046158</td><td>0.00894135795533657</td><td>0.007861487567424774</td><td>0.007586952764540911</td><td>0.019661953672766685</td><td>2.5884573459625244</td><td>8.96480941772461</td><td>0.05401099845767021</td><td>0.00018139199528377503</td><td>0.9996489882469177</td><td>-18.679169</td><td>-20.313011</td><td>-21.040554</td><td>-21.403921</td><td>-21.5816</td><td>0.10396353</td><td>0.013414468</td><td>0.012720181</td><td>0.012552366</td><td>0.022058876</td><td>2.7202384</td><td>458382304985769984</td><td>1237657234375966842</td><td>587731513151062160</td><td>38.049053</td><td>0.22403874</td><td>02:32:11.77</td><td>+00:13:26.5</td><td>stripe82</td><td>Er</td><td>49</td><td>164</td><td>42</td><td>41.573</td><td>0.857</td><td>0.856</td><td>0.6318483</td><td>0</td><td>6</td><td>6.0</td><td>0.122</td><td>0.124</td><td>0.31719398</td><td>0</td><td>1</td><td>1.0</td><td>0.02</td><td>0.021</td><td>0.020119477</td><td>0</td><td>0</td><td>0.0</td><td>0.0</td><td>0.0</td><td>0.0</td><td>0</td><td>6</td><td>6.0</td><td>1.0</td><td>1.0</td><td>1.0</td><td>0</td><td>1</td><td>1.0</td><td>0.167</td><td>0.167</td><td>0.19530876</td><td>0</td><td>5</td><td>5.0</td><td>0.833</td><td>0.833</td><td>0.80224466</td><td>0</td><td>0</td><td>0.0</td><td>0.0</td><td>0.0</td><td>0.0</td><td>0</td><td>6</td><td>6.0</td><td>1.0</td><td>1.0</td><td>1.0</td><td>0</td><td>0</td><td>0.0</td><td>0.0</td><td>0.0</td><td>0.0</td><td>0</td><td>3</td><td>3.0</td><td>0.5</td><td>0.5</td><td>0.47960034</td><td>0</td><td>2</td><td>2.0</td><td>0.333</td><td>0.333</td><td>0.35741594</td><td>0</td><td>1</td><td>1.0</td><td>0.167</td><td>0.167</td><td>0.15662117</td><td>0</td><td>1</td><td>0.573</td><td>0.021</td><td>0.012</td><td>0.019783022</td><td>0</td><td>47</td><td>47.0</td><td>0.979</td><td>0.988</td><td>0.9768529</td><td>1</td><td>23</td><td>23.0</td><td>0.548</td><td>0.553</td><td>0.5479239</td><td>0</td><td>19</td><td>18.573</td><td>0.452</td><td>0.447</td><td>0.38267967</td><td>0</td><td>0</td><td>0.0</td><td>0.0</td><td>0.0</td><td>0.0</td><td>0</td><td>0</td><td>0.0</td><td>0.0</td><td>0.0</td><td>0.0</td><td>0</td><td>0</td><td>0.0</td><td>0.0</td><td>0.0</td><td>0.0</td><td>0</td><td>0</td><td>0.0</td><td>0.0</td><td>0.0</td><td>0.0</td><td>0</td><td>0</td><td>0.0</td><td>0.0</td><td>0.0</td><td>0.0</td><td>0</td><td>0</td><td>0.0</td><td>0.0</td><td>0.0</td><td>0.0</td><td>0</td><td>1</td><td>0.573</td><td>1.0</td><td>0.0</td><td>0.0</td><td>0</td><td>0</td><td>0.0</td><td>0.0</td><td>0.0</td><td>0.0</td><td>0</td><td>0</td><td>0.0</td><td>0.0</td><td>0.0</td><td>0.0</td><td>0</td><td>0</td><td>0.0</td><td>0.0</td><td>0.0</td><td>0.0</td><td>0</td><td>0</td><td>0.0</td><td>0.0</td><td>0.0</td><td>0.0</td><td>0</td><td>0</td><td>0.0</td><td>0.0</td><td>0.0</td><td>0.0</td><td>0</td><td>0</td><td>0.0</td><td>0.0</td><td>0.0</td><td>0.0</td><td>0</td><td>0</td><td>0.0</td><td>0.0</td><td>0.0</td><td>0.0</td><td>0</td><td>0</td><td>0.0</td><td>0.0</td><td>0.0</td><td>0.0</td><td>0</td><td>0</td><td>0.0</td><td>0.0</td><td>0.0</td><td>0.0</td><td>0</td><td>0</td><td>0.0</td><td>0.0</td><td>0.0</td><td>0.0</td><td>0</td><td>0</td><td>0.0</td><td>0.0</td><td>0.0</td><td>0.0</td><td>0</td><td>0</td><td>0.0</td><td>0.0</td><td>0.0</td><td>0.0</td><td>0</td><td>0</td><td>0.0</td><td>0.0</td><td>0.0</td><td>0.0</td><td>0</td><td>2.5884573</td><td>8.964809</td><td>18.588467</td><td>16.837368</td><td>16.003517</td><td>15.586132</td><td>15.370121</td><td>0.10201935</td><td>0.008941358</td><td>0.007861488</td><td>0.0075869528</td><td>0.019661954</td><td>0.14061879</td><td>0.10346597</td><td>0.07504215</td><td>0.056902193</td><td>0.040344365</td><td>0.054011</td><td>0.000181392</td><td>-18.680458</td><td>-20.313526</td><td>-21.041056</td><td>-21.403141</td><td>-21.58127</td><td>0.10396353</td><td>0.013414468</td><td>0.012720181</td><td>0.012552366</td><td>0.022058876</td><td>2.7202384</td><td>0.3046532923528613</td><td>0.28974453904573294</td><td>1</td><td>0</td><td>1</td><td>1</td><td>0</td><td>1</td><td>0.05402158</td><td>1.408746e-05</td><td>458382304985769984</td><td>0.05402158</td><td>-21.042627630590864</td><td>67926</td><td>1</td><td>0.05402158</td><td>-21.042627630590864</td></tr>\n",
       "<tr><td>2</td><td>751</td><td>38.352526239</td><td>0.212490935</td><td>0.0538176</td><td>16.786047</td><td>17.6200008</td><td>0.9878049</td><td>-19.3635311</td><td>0.8207065</td><td>-19.3689442</td><td>0.8517601</td><td>1</td><td>23485</td><td>2</td><td>2</td><td>38.36153801</td><td>0.21099565</td><td>0.05400701</td><td>10.2905</td><td>10.601</td><td>12.4622</td><td>12.3665</td><td>8.7007</td><td>8.1175</td><td>1.0</td><td>1</td><td>1</td><td>2</td><td>587731513151193225</td><td>38.35250638300298</td><td>0.21247077455151686</td><td>26</td><td>0.769</td><td>0.038</td><td>0.0</td><td>0.115</td><td>0.077</td><td>0.0</td><td>0.154</td><td>0.626</td><td>0.285</td><td>0</td><td>0</td><td>1</td><td>19.142757415771484</td><td>17.54396629333496</td><td>16.771150588989258</td><td>16.426692962646484</td><td>16.19548225402832</td><td>0.16993239521980286</td><td>0.01275638397783041</td><td>0.009861176833510399</td><td>0.010420959442853928</td><td>0.03741838410496712</td><td>2.312983751296997</td><td>6.069363594055176</td><td>0.05383089929819107</td><td>0.0001511610025772825</td><td>0.9994379878044128</td><td>-17.964046</td><td>-19.48514</td><td>-20.186768</td><td>-20.491817</td><td>-20.703176</td><td>0.17111893</td><td>0.016208824</td><td>0.014044321</td><td>0.014442874</td><td>0.038731944</td><td>2.4231505</td><td>458404570096232448</td><td>1237657234376097919</td><td>587731513151193225</td><td>38.352505</td><td>0.21247654</td><td>02:33:24.60</td><td>+00:12:44.9</td><td>stripe82</td><td>Er</td><td>41</td><td>123</td><td>39</td><td>39.0</td><td>0.951</td><td>0.973</td><td>0.81205946</td><td>1</td><td>1</td><td>1.0</td><td>0.024</td><td>0.025</td><td>0.36679792</td><td>0</td><td>1</td><td>0.074</td><td>0.024</td><td>0.002</td><td>0.0010745256</td><td>0</td><td>0</td><td>0.0</td><td>0.0</td><td>0.0</td><td>0.0</td><td>0</td><td>1</td><td>1.0</td><td>1.0</td><td>1.0</td><td>1.0</td><td>0</td><td>0</td><td>0.0</td><td>0.0</td><td>0.0</td><td>0.0</td><td>0</td><td>1</td><td>1.0</td><td>1.0</td><td>1.0</td><td>1.0</td><td>0</td><td>0</td><td>0.0</td><td>0.0</td><td>0.0</td><td>0.0</td><td>0</td><td>1</td><td>1.0</td><td>1.0</td><td>1.0</td><td>1.0</td><td>0</td><td>0</td><td>0.0</td><td>0.0</td><td>0.0</td><td>0.0</td><td>0</td><td>0</td><td>0.0</td><td>0.0</td><td>0.0</td><td>0.0</td><td>0</td><td>1</td><td>1.0</td><td>1.0</td><td>1.0</td><td>1.0</td><td>0</td><td>0</td><td>0.0</td><td>0.0</td><td>0.0</td><td>0.0</td><td>0</td><td>0</td><td>0.0</td><td>0.0</td><td>0.0</td><td>0.0</td><td>0</td><td>39</td><td>39.0</td><td>1.0</td><td>1.0</td><td>1.0</td><td>1</td><td>34</td><td>34.0</td><td>0.872</td><td>0.872</td><td>0.8822467</td><td>1</td><td>5</td><td>5.0</td><td>0.128</td><td>0.128</td><td>0.15600537</td><td>0</td><td>0</td><td>0.0</td><td>0.0</td><td>0.0</td><td>0.0</td><td>0</td><td>0</td><td>0.0</td><td>0.0</td><td>0.0</td><td>0.0</td><td>0</td><td>0</td><td>0.0</td><td>0.0</td><td>0.0</td><td>0.0</td><td>0</td><td>0</td><td>0.0</td><td>0.0</td><td>0.0</td><td>0.0</td><td>0</td><td>0</td><td>0.0</td><td>0.0</td><td>0.0</td><td>0.0</td><td>0</td><td>0</td><td>0.0</td><td>0.0</td><td>0.0</td><td>0.0</td><td>0</td><td>0</td><td>0.0</td><td>0.0</td><td>0.0</td><td>0.0</td><td>0</td><td>0</td><td>0.0</td><td>0.0</td><td>0.0</td><td>0.0</td><td>0</td><td>0</td><td>0.0</td><td>0.0</td><td>0.0</td><td>0.0</td><td>0</td><td>0</td><td>0.0</td><td>0.0</td><td>0.0</td><td>0.0</td><td>0</td><td>0</td><td>0.0</td><td>0.0</td><td>0.0</td><td>0.0</td><td>0</td><td>0</td><td>0.0</td><td>0.0</td><td>0.0</td><td>0.0</td><td>0</td><td>0</td><td>0.0</td><td>0.0</td><td>0.0</td><td>0.0</td><td>0</td><td>0</td><td>0.0</td><td>0.0</td><td>0.0</td><td>0.0</td><td>0</td><td>0</td><td>0.0</td><td>0.0</td><td>0.0</td><td>0.0</td><td>0</td><td>0</td><td>0.0</td><td>0.0</td><td>0.0</td><td>0.0</td><td>0</td><td>0</td><td>0.0</td><td>0.0</td><td>0.0</td><td>0.0</td><td>0</td><td>0</td><td>0.0</td><td>0.0</td><td>0.0</td><td>0.0</td><td>0</td><td>0</td><td>0.0</td><td>0.0</td><td>0.0</td><td>0.0</td><td>0</td><td>0</td><td>0.0</td><td>0.0</td><td>0.0</td><td>0.0</td><td>0</td><td>2.3129838</td><td>6.0693636</td><td>19.287455</td><td>17.648867</td><td>16.847418</td><td>16.484562</td><td>16.235905</td><td>0.1699324</td><td>0.012756384</td><td>0.009861177</td><td>0.010420959</td><td>0.037418384</td><td>0.14277348</td><td>0.10505137</td><td>0.076192014</td><td>0.057774097</td><td>0.040962555</td><td>0.0538309</td><td>0.000151161</td><td>-17.962233</td><td>-19.485281</td><td>-20.186756</td><td>-20.491661</td><td>-20.703735</td><td>0.17111899</td><td>0.016208824</td><td>0.014044321</td><td>0.014442874</td><td>0.038731944</td><td>2.4231505</td><td>0.10186784313202481</td><td>0.09317910462827729</td><td>1</td><td>0</td><td>1</td><td>1</td><td>0</td><td>1</td><td>0.05381758</td><td>1.484226e-05</td><td>458404570096232448</td><td>0.05381758</td><td>-20.187121165471776</td><td>23485</td><td>2</td><td>0.05381758</td><td>-20.187121165471776</td></tr>\n",
       "<tr><td>3</td><td>752</td><td>38.363597531</td><td>0.210653925</td><td>0.0540503</td><td>15.0902996</td><td>17.6200008</td><td>0.9878049</td><td>-20.9661407</td><td>0.7585465</td><td>-20.9080181</td><td>0.8726098</td><td>1</td><td>23485</td><td>1</td><td>1</td><td>38.36153801</td><td>0.21099565</td><td>0.05400701</td><td>10.2905</td><td>10.601</td><td>12.4622</td><td>12.3665</td><td>8.7007</td><td>8.1175</td><td>1.0</td><td>1</td><td>1</td><td>2</td><td>587731513151193232</td><td>38.36358971614639</td><td>0.21063744007625126</td><td>31</td><td>0.129</td><td>0.0</td><td>0.355</td><td>0.516</td><td>0.0</td><td>0.0</td><td>0.871</td><td>0.086</td><td>0.914</td><td>1</td><td>0</td><td>0</td><td>17.345298767089844</td><td>15.815303802490234</td><td>15.09960651397705</td><td>14.703999519348145</td><td>14.47175407409668</td><td>0.05993527173995972</td><td>0.0067631094716489315</td><td>0.00639762170612812</td><td>0.00461828475818038</td><td>0.013982229866087437</td><td>4.778656005859375</td><td>11.9691162109375</td><td>0.054140400141477585</td><td>0.00017124699661508203</td><td>0.9971870183944702</td><td>-19.79128</td><td>-21.221424</td><td>-21.8894</td><td>-22.217318</td><td>-22.448687</td><td>0.06318432</td><td>0.012072269</td><td>0.011871377</td><td>0.011014925</td><td>0.0171902</td><td>5.0332046</td><td>459463674688464896</td><td>1237657234376097929</td><td>587731513151193232</td><td>38.36358</td><td>0.21064621</td><td>02:33:27.26</td><td>+00:12:38.3</td><td>stripe82</td><td>Sb</td><td>56</td><td>270</td><td>22</td><td>22.0</td><td>0.393</td><td>0.4</td><td>0.3156343</td><td>0</td><td>33</td><td>33.0</td><td>0.589</td><td>0.599</td><td>0.8482508</td><td>1</td><td>1</td><td>0.054</td><td>0.018</td><td>0.001</td><td>0.0005022367</td><td>0</td><td>12</td><td>12.0</td><td>0.364</td><td>0.364</td><td>0.30120638</td><td>0</td><td>21</td><td>21.0</td><td>0.636</td><td>0.636</td><td>0.7084166</td><td>0</td><td>4</td><td>4.0</td><td>0.19</td><td>0.19</td><td>0.112197176</td><td>0</td><td>17</td><td>17.0</td><td>0.81</td><td>0.81</td><td>0.88556314</td><td>0</td><td>13</td><td>13.0</td><td>0.619</td><td>0.619</td><td>0.37986374</td><td>0</td><td>8</td><td>8.0</td><td>0.381</td><td>0.381</td><td>0.62006015</td><td>0</td><td>0</td><td>0.0</td><td>0.0</td><td>0.0</td><td>0.0</td><td>0</td><td>10</td><td>10.0</td><td>0.476</td><td>0.476</td><td>0.4053154</td><td>0</td><td>10</td><td>10.0</td><td>0.476</td><td>0.476</td><td>0.52189255</td><td>0</td><td>1</td><td>1.0</td><td>0.048</td><td>0.048</td><td>0.06814408</td><td>0</td><td>3</td><td>3.0</td><td>0.055</td><td>0.055</td><td>0.060477886</td><td>0</td><td>52</td><td>52.0</td><td>0.945</td><td>0.945</td><td>0.93146557</td><td>1</td><td>0</td><td>0.0</td><td>0.0</td><td>0.0</td><td>0.0</td><td>0</td><td>4</td><td>4.0</td><td>0.182</td><td>0.182</td><td>0.182</td><td>0</td><td>18</td><td>18.0</td><td>0.818</td><td>0.818</td><td>0.818</td><td>0</td><td>0</td><td>0.0</td><td>0.0</td><td>0.0</td><td>0.0</td><td>0</td><td>1</td><td>1.0</td><td>0.333</td><td>0.333</td><td>0.333</td><td>0</td><td>0</td><td>0.0</td><td>0.0</td><td>0.0</td><td>0.0</td><td>0</td><td>0</td><td>0.0</td><td>0.0</td><td>0.0</td><td>0.0</td><td>0</td><td>0</td><td>0.0</td><td>0.0</td><td>0.0</td><td>0.0</td><td>0</td><td>0</td><td>0.0</td><td>0.0</td><td>0.0</td><td>0.0</td><td>0</td><td>2</td><td>2.0</td><td>0.667</td><td>0.667</td><td>0.667</td><td>0</td><td>6</td><td>6.0</td><td>0.5</td><td>0.5</td><td>0.5</td><td>0</td><td>1</td><td>1.0</td><td>0.083</td><td>0.083</td><td>0.083</td><td>0</td><td>5</td><td>5.0</td><td>0.417</td><td>0.417</td><td>0.417</td><td>0</td><td>9</td><td>9.0</td><td>0.692</td><td>0.692</td><td>0.6318585</td><td>0</td><td>4</td><td>4.0</td><td>0.308</td><td>0.308</td><td>0.32980764</td><td>0</td><td>0</td><td>0.0</td><td>0.0</td><td>0.0</td><td>0.0</td><td>0</td><td>1</td><td>1.0</td><td>0.077</td><td>0.077</td><td>0.0801676</td><td>0</td><td>3</td><td>3.0</td><td>0.231</td><td>0.231</td><td>0.21768469</td><td>0</td><td>0</td><td>0.0</td><td>0.0</td><td>0.0</td><td>0.0</td><td>0</td><td>1</td><td>1.0</td><td>0.077</td><td>0.077</td><td>0.079824835</td><td>0</td><td>1</td><td>1.0</td><td>0.077</td><td>0.077</td><td>0.08189593</td><td>0</td><td>7</td><td>7.0</td><td>0.538</td><td>0.538</td><td>0.5390047</td><td>0</td><td>4.778656</td><td>11.969116</td><td>17.487986</td><td>15.918747</td><td>15.174858</td><td>14.761004</td><td>14.51152</td><td>0.05993527</td><td>0.0067631095</td><td>0.0063976217</td><td>0.0046182848</td><td>0.01398223</td><td>0.14075637</td><td>0.1035672</td><td>0.07511557</td><td>0.056957863</td><td>0.040383834</td><td>0.0541404</td><td>0.000171247</td><td>-19.7898</td><td>-21.22158</td><td>-21.8895</td><td>-22.21716</td><td>-22.449417</td><td>0.06318432</td><td>0.012072269</td><td>0.011871377</td><td>0.011014925</td><td>0.0171902</td><td>5.0332046</td><td>0.06567645498146724</td><td>0.07293619562360842</td><td>1</td><td>0</td><td>1</td><td>1</td><td>0</td><td>1</td><td>0.0540503</td><td>1.178894e-05</td><td>459463674688464896</td><td>0.0540503</td><td>-21.892596003746903</td><td>23485</td><td>2</td><td>0.0540503</td><td>-21.892596003746903</td></tr>\n",
       "<tr><td>4</td><td>994</td><td>54.450340819</td><td>0.572606244</td><td>0.1385037</td><td>17.6040344</td><td>17.6200008</td><td>0.9183673</td><td>-20.6810684</td><td>0.8804656</td><td>-20.6609764</td><td>0.8857337</td><td>1</td><td>67927</td><td>1</td><td>1</td><td>54.45034082</td><td>0.57260624</td><td>0.1385037</td><td>10.1958</td><td>10.5868</td><td>12.3102</td><td>12.346</td><td>7.7948</td><td>7.9976</td><td>1.0</td><td>-1</td><td>-1</td><td>1</td><td>-9223372036854775808</td><td>nan</td><td>nan</td><td>-32768</td><td>nan</td><td>nan</td><td>nan</td><td>nan</td><td>nan</td><td>nan</td><td>nan</td><td>nan</td><td>nan</td><td>-32768</td><td>-32768</td><td>-32768</td><td>nan</td><td>nan</td><td>nan</td><td>nan</td><td>nan</td><td>nan</td><td>nan</td><td>nan</td><td>nan</td><td>nan</td><td>nan</td><td>nan</td><td>nan</td><td>nan</td><td>nan</td><td>nan</td><td>nan</td><td>nan</td><td>nan</td><td>nan</td><td>nan</td><td>nan</td><td>nan</td><td>nan</td><td>nan</td><td>nan</td><td>-9223372036854775808</td><td>-9223372036854775808</td><td>-9223372036854775808</td><td>nan</td><td>nan</td><td></td><td></td><td></td><td></td><td>-32768</td><td>-32768</td><td>-32768</td><td>nan</td><td>nan</td><td>nan</td><td>nan</td><td>-32768</td><td>-32768</td><td>nan</td><td>nan</td><td>nan</td><td>nan</td><td>-32768</td><td>-32768</td><td>nan</td><td>nan</td><td>nan</td><td>nan</td><td>-32768</td><td>-32768</td><td>nan</td><td>nan</td><td>nan</td><td>nan</td><td>-32768</td><td>-32768</td><td>nan</td><td>nan</td><td>nan</td><td>nan</td><td>-32768</td><td>-32768</td><td>nan</td><td>nan</td><td>nan</td><td>nan</td><td>-32768</td><td>-32768</td><td>nan</td><td>nan</td><td>nan</td><td>nan</td><td>-32768</td><td>-32768</td><td>nan</td><td>nan</td><td>nan</td><td>nan</td><td>-32768</td><td>-32768</td><td>nan</td><td>nan</td><td>nan</td><td>nan</td><td>-32768</td><td>-32768</td><td>nan</td><td>nan</td><td>nan</td><td>nan</td><td>-32768</td><td>-32768</td><td>nan</td><td>nan</td><td>nan</td><td>nan</td><td>-32768</td><td>-32768</td><td>nan</td><td>nan</td><td>nan</td><td>nan</td><td>-32768</td><td>-32768</td><td>nan</td><td>nan</td><td>nan</td><td>nan</td><td>-32768</td><td>-32768</td><td>nan</td><td>nan</td><td>nan</td><td>nan</td><td>-32768</td><td>-32768</td><td>nan</td><td>nan</td><td>nan</td><td>nan</td><td>-32768</td><td>-32768</td><td>nan</td><td>nan</td><td>nan</td><td>nan</td><td>-32768</td><td>-32768</td><td>nan</td><td>nan</td><td>nan</td><td>nan</td><td>-32768</td><td>-32768</td><td>nan</td><td>nan</td><td>nan</td><td>nan</td><td>-32768</td><td>-32768</td><td>nan</td><td>nan</td><td>nan</td><td>nan</td><td>-32768</td><td>-32768</td><td>nan</td><td>nan</td><td>nan</td><td>nan</td><td>-32768</td><td>-32768</td><td>nan</td><td>nan</td><td>nan</td><td>nan</td><td>-32768</td><td>-32768</td><td>nan</td><td>nan</td><td>nan</td><td>nan</td><td>-32768</td><td>-32768</td><td>nan</td><td>nan</td><td>nan</td><td>nan</td><td>-32768</td><td>-32768</td><td>nan</td><td>nan</td><td>nan</td><td>nan</td><td>-32768</td><td>-32768</td><td>nan</td><td>nan</td><td>nan</td><td>nan</td><td>-32768</td><td>-32768</td><td>nan</td><td>nan</td><td>nan</td><td>nan</td><td>-32768</td><td>-32768</td><td>nan</td><td>nan</td><td>nan</td><td>nan</td><td>-32768</td><td>-32768</td><td>nan</td><td>nan</td><td>nan</td><td>nan</td><td>-32768</td><td>-32768</td><td>nan</td><td>nan</td><td>nan</td><td>nan</td><td>-32768</td><td>-32768</td><td>nan</td><td>nan</td><td>nan</td><td>nan</td><td>-32768</td><td>-32768</td><td>nan</td><td>nan</td><td>nan</td><td>nan</td><td>-32768</td><td>-32768</td><td>nan</td><td>nan</td><td>nan</td><td>nan</td><td>-32768</td><td>-32768</td><td>nan</td><td>nan</td><td>nan</td><td>nan</td><td>-32768</td><td>-32768</td><td>nan</td><td>nan</td><td>nan</td><td>nan</td><td>-32768</td><td>-32768</td><td>nan</td><td>nan</td><td>nan</td><td>nan</td><td>-32768</td><td>-32768</td><td>nan</td><td>nan</td><td>nan</td><td>nan</td><td>-32768</td><td>-32768</td><td>nan</td><td>nan</td><td>nan</td><td>nan</td><td>-32768</td><td>nan</td><td>nan</td><td>nan</td><td>nan</td><td>nan</td><td>nan</td><td>nan</td><td>nan</td><td>nan</td><td>nan</td><td>nan</td><td>nan</td><td>nan</td><td>nan</td><td>nan</td><td>nan</td><td>nan</td><td>nan</td><td>nan</td><td>nan</td><td>nan</td><td>nan</td><td>nan</td><td>nan</td><td>nan</td><td>nan</td><td>nan</td><td>nan</td><td>nan</td><td>nan</td><td>nan</td><td>nan</td><td>0</td><td>0</td><td>0</td><td>0</td><td>0</td><td>0</td><td>-1.0</td><td>-1.0</td><td>-9223372036854775808</td><td>0.1385037</td><td>-21.544385642116058</td><td>67927</td><td>1</td><td>0.1385037</td><td>-21.544385642116058</td></tr>\n",
       "<tr><td>5</td><td>1010</td><td>54.53488061</td><td>0.578614767</td><td>0.1289553</td><td>17.4154015</td><td>17.6200008</td><td>0.9183673</td><td>-20.7128315</td><td>0.9181613</td><td>-20.6985416</td><td>0.9755992</td><td>1</td><td>67928</td><td>1</td><td>1</td><td>54.53488061</td><td>0.57861477</td><td>0.1289553</td><td>10.2077</td><td>10.6528</td><td>12.3289</td><td>12.4436</td><td>7.9008</td><td>8.5825</td><td>1.0</td><td>1</td><td>-1</td><td>1</td><td>588015509830107427</td><td>54.534798080959625</td><td>0.5786080755509099</td><td>32</td><td>0.844</td><td>0.0</td><td>0.031</td><td>0.062</td><td>0.062</td><td>0.0</td><td>0.094</td><td>0.628</td><td>0.278</td><td>0</td><td>0</td><td>1</td><td>20.289344787597656</td><td>18.32272720336914</td><td>17.37369728088379</td><td>16.937604904174805</td><td>16.639774322509766</td><td>0.31935033202171326</td><td>0.025730550289154053</td><td>0.01446441002190113</td><td>0.018545161932706833</td><td>0.028279408812522888</td><td>1.552608847618103</td><td>5.094411849975586</td><td>0.12893100082874298</td><td>0.0001615049986867234</td><td>0.9997770190238953</td><td>-19.122047</td><td>-20.97464</td><td>-21.697758</td><td>-22.052282</td><td>-22.306372</td><td>0.32018897</td><td>0.027605632</td><td>0.017584655</td><td>0.021069521</td><td>0.029996015</td><td>3.5723724</td><td>-9223372036854775808</td><td>-9223372036854775808</td><td>-9223372036854775808</td><td>nan</td><td>nan</td><td></td><td></td><td></td><td></td><td>-32768</td><td>-32768</td><td>-32768</td><td>nan</td><td>nan</td><td>nan</td><td>nan</td><td>-32768</td><td>-32768</td><td>nan</td><td>nan</td><td>nan</td><td>nan</td><td>-32768</td><td>-32768</td><td>nan</td><td>nan</td><td>nan</td><td>nan</td><td>-32768</td><td>-32768</td><td>nan</td><td>nan</td><td>nan</td><td>nan</td><td>-32768</td><td>-32768</td><td>nan</td><td>nan</td><td>nan</td><td>nan</td><td>-32768</td><td>-32768</td><td>nan</td><td>nan</td><td>nan</td><td>nan</td><td>-32768</td><td>-32768</td><td>nan</td><td>nan</td><td>nan</td><td>nan</td><td>-32768</td><td>-32768</td><td>nan</td><td>nan</td><td>nan</td><td>nan</td><td>-32768</td><td>-32768</td><td>nan</td><td>nan</td><td>nan</td><td>nan</td><td>-32768</td><td>-32768</td><td>nan</td><td>nan</td><td>nan</td><td>nan</td><td>-32768</td><td>-32768</td><td>nan</td><td>nan</td><td>nan</td><td>nan</td><td>-32768</td><td>-32768</td><td>nan</td><td>nan</td><td>nan</td><td>nan</td><td>-32768</td><td>-32768</td><td>nan</td><td>nan</td><td>nan</td><td>nan</td><td>-32768</td><td>-32768</td><td>nan</td><td>nan</td><td>nan</td><td>nan</td><td>-32768</td><td>-32768</td><td>nan</td><td>nan</td><td>nan</td><td>nan</td><td>-32768</td><td>-32768</td><td>nan</td><td>nan</td><td>nan</td><td>nan</td><td>-32768</td><td>-32768</td><td>nan</td><td>nan</td><td>nan</td><td>nan</td><td>-32768</td><td>-32768</td><td>nan</td><td>nan</td><td>nan</td><td>nan</td><td>-32768</td><td>-32768</td><td>nan</td><td>nan</td><td>nan</td><td>nan</td><td>-32768</td><td>-32768</td><td>nan</td><td>nan</td><td>nan</td><td>nan</td><td>-32768</td><td>-32768</td><td>nan</td><td>nan</td><td>nan</td><td>nan</td><td>-32768</td><td>-32768</td><td>nan</td><td>nan</td><td>nan</td><td>nan</td><td>-32768</td><td>-32768</td><td>nan</td><td>nan</td><td>nan</td><td>nan</td><td>-32768</td><td>-32768</td><td>nan</td><td>nan</td><td>nan</td><td>nan</td><td>-32768</td><td>-32768</td><td>nan</td><td>nan</td><td>nan</td><td>nan</td><td>-32768</td><td>-32768</td><td>nan</td><td>nan</td><td>nan</td><td>nan</td><td>-32768</td><td>-32768</td><td>nan</td><td>nan</td><td>nan</td><td>nan</td><td>-32768</td><td>-32768</td><td>nan</td><td>nan</td><td>nan</td><td>nan</td><td>-32768</td><td>-32768</td><td>nan</td><td>nan</td><td>nan</td><td>nan</td><td>-32768</td><td>-32768</td><td>nan</td><td>nan</td><td>nan</td><td>nan</td><td>-32768</td><td>-32768</td><td>nan</td><td>nan</td><td>nan</td><td>nan</td><td>-32768</td><td>-32768</td><td>nan</td><td>nan</td><td>nan</td><td>nan</td><td>-32768</td><td>-32768</td><td>nan</td><td>nan</td><td>nan</td><td>nan</td><td>-32768</td><td>-32768</td><td>nan</td><td>nan</td><td>nan</td><td>nan</td><td>-32768</td><td>-32768</td><td>nan</td><td>nan</td><td>nan</td><td>nan</td><td>-32768</td><td>-32768</td><td>nan</td><td>nan</td><td>nan</td><td>nan</td><td>-32768</td><td>-32768</td><td>nan</td><td>nan</td><td>nan</td><td>nan</td><td>-32768</td><td>nan</td><td>nan</td><td>nan</td><td>nan</td><td>nan</td><td>nan</td><td>nan</td><td>nan</td><td>nan</td><td>nan</td><td>nan</td><td>nan</td><td>nan</td><td>nan</td><td>nan</td><td>nan</td><td>nan</td><td>nan</td><td>nan</td><td>nan</td><td>nan</td><td>nan</td><td>nan</td><td>nan</td><td>nan</td><td>nan</td><td>nan</td><td>nan</td><td>nan</td><td>nan</td><td>0.2980644214967109</td><td>nan</td><td>1</td><td>0</td><td>1</td><td>0</td><td>0</td><td>0</td><td>0.1289553</td><td>2.572807e-05</td><td>468480219624269824</td><td>0.1289553</td><td>-21.564816141325146</td><td>67928</td><td>1</td><td>0.1289553</td><td>-21.564816141325146</td></tr>\n",
       "</table>"
      ],
      "text/plain": [
       "<Table length=5>\n",
       "galaxy ID NYU-VAGC ID object ID ... Best_redshift_new     Best_Mr_new    \n",
       "  int32           int32         ...      float64            float64      \n",
       "--------- --------------------- ... ----------------- -------------------\n",
       "        1                   750 ...        0.05402158 -21.042627630590864\n",
       "        2                   751 ...        0.05381758 -20.187121165471776\n",
       "        3                   752 ...         0.0540503 -21.892596003746903\n",
       "        4                   994 ...         0.1385037 -21.544385642116058\n",
       "        5                  1010 ...         0.1289553 -21.564816141325146"
      ]
     },
     "metadata": {},
     "output_type": "display_data"
    }
   ],
   "source": [
    "# from astropy.table import Table\n",
    "from astropy.table import Table\n",
    "from astropy.io import fits\n",
    "import matplotlib.pyplot as plt\n",
    "import pandas as pd\n",
    "import numpy as np\n",
    "\n",
    "# Import .fits data as a table\n",
    "data_filename = \"E:\\\\MPhys Project\\\\Main Data\\\\Group_GZ1_GZ2_full_new_best_z_and_Mr_fixed_groups.fits\" # All galaxies in group data set with matched GZ1 & Gz2 galaxies\n",
    "\n",
    "with fits.open(data_filename) as data:\n",
    "    all_data = Table(data[1].data)\n",
    "\n",
    "# Display head of data\n",
    "display(all_data[0:5])"
   ]
  },
  {
   "cell_type": "markdown",
   "metadata": {},
   "source": [
    "### Classifying mergers\n",
    "Many of the galaxies in our data set have classification data from both GZ1 and GZ2. As GZ1 and GZ2 have different decision trees, we must classify mergers in a different way for each. We can then compare the classifications for galaxies which are in both sets, to see if our classification methods are consistent.\n",
    "\n",
    "For GZ1 we will use the threshold for merger classification as described in [Darg et al. (2009)](https://arxiv.org/pdf/0903.4937.pdf):\n",
    "- merger weighted vote fraction $p_m$ > 0.4\n",
    "\n",
    "Note that this was used in Darg et al. (2009) for only galaxies with redshifts $0.005 < z < 0.1$, but we will use it for galaxies in the range $0.1 \\leq z \\leq 0.2$ here also.\n",
    "\n",
    "For GZ2 we will use the threshold for merger classification we have done previously:\n",
    "- \"t06_odd_a14_yes_count\" $\\geq$ 20\n",
    "- \"t06_odd_a14_yes_debiased\" > 0.42\n",
    "- \"t08_odd_feature_a24_merger_count\" $\\geq$ 10\n",
    "- \"t08_odd_feature_a24_merger_debiased\" > 0.4"
   ]
  },
  {
   "cell_type": "code",
   "execution_count": 2,
   "metadata": {},
   "outputs": [],
   "source": [
    "# Create a new column in the data for GZ1 mergers, with a value of 1 if the galaxy is classified as a merger, and 0 if not\n",
    "all_data_pandas = all_data.to_pandas()\n",
    "all_data_pandas[\"GZ1_merger_yes\"] = 0\n",
    "all_data_pandas.loc[(all_data_pandas[\"GZ1\"] == 1) & (all_data_pandas[\"P_MG\"] > 0.4), \"GZ1_merger_yes\"] = 1\n",
    "\n",
    "# Do the same for GZ2 mergers\n",
    "all_data_pandas[\"GZ2_merger_yes\"] = 0\n",
    "all_data_pandas.loc[(all_data_pandas[\"GZ2\"] == 1) & (all_data_pandas[\"t06_odd_a14_yes_count\"] >= 20) & (all_data_pandas[\"t06_odd_a14_yes_debiased\"] > 0.42) & (all_data_pandas[\"t08_odd_feature_a24_merger_count\"] >= 10) & (all_data_pandas[\"t08_odd_feature_a24_merger_debiased\"] > 0.4), \"GZ2_merger_yes\"] = 1\n",
    "\n",
    "# Return data frame\n",
    "all_data = Table.from_pandas(all_data_pandas)\n",
    "\n",
    "# Add column that gives number of merger classifications\n",
    "all_data[\"Merger_classifications\"] = all_data[\"GZ1_merger_yes\"] + all_data[\"GZ2_merger_yes\"]"
   ]
  },
  {
   "cell_type": "markdown",
   "metadata": {},
   "source": [
    "### Volume limiting\n",
    "\n",
    "We use the volume limit we have done in previous notebooks: $M_r < -19$, $0.01 < z_\\text{mean} < 0.05$, where $M_r$ is the absolute magnitude and $z_\\text{mean}$ is the mean redshift of galaxies in a group with $M_r < -19$.\n",
    "\n",
    "We import the mean group redshifts and velocity data for galaxies in this volume limit below, then identify which galaxies are in our volume limit."
   ]
  },
  {
   "cell_type": "code",
   "execution_count": 3,
   "metadata": {},
   "outputs": [
    {
     "name": "stdout",
     "output_type": "stream",
     "text": [
      "Number of galaxies in volume limit: 67647\n",
      "Fraction of all galaxies in volume limit: 0.1058044072266129\n",
      "Number of mergers in volume limit: 2059\n"
     ]
    }
   ],
   "source": [
    "# Read previously calculated mean z for volume limited groups\n",
    "volume_limited_mean_z_filename = \"E:\\\\MPhys Project\\\\Main Data\\\\mean_redshift_Mr_less_than_19.fits\"\n",
    "\n",
    "with fits.open(volume_limited_mean_z_filename) as data:\n",
    "    volume_limited_mean_z = Table(data[1].data)\n",
    "\n",
    "# Crate pandas DataFrames to merge\n",
    "all_data_pandas = all_data.to_pandas()\n",
    "volume_limited_mean_z_pandas = volume_limited_mean_z.to_pandas()\n",
    "\n",
    "# Merge the two DataFrames, keeping all the rows in the full DataFrame\n",
    "merged = pd.merge(all_data_pandas, volume_limited_mean_z_pandas, on=\"galaxy ID\", how=\"left\")\n",
    "\n",
    "# Make mean of N=1 groups equal to galaxy redshift\n",
    "merged.loc[merged[\"group_size_new\"] == 1, \"z_group_mean\"] = merged.loc[merged[\"group_size_new\"] == 1, \"Best_redshift_new\"]\n",
    "\n",
    "# Read previously calculated mean z for volume limited groups\n",
    "velocities_filename = \"E:\\\\MPhys Project\\\\Main Data\\\\velocity_data_volume_limited.fits\"\n",
    "\n",
    "with fits.open(velocities_filename) as data:\n",
    "    velocity_data_to_merge = Table(data[1].data)\n",
    "\n",
    "# Crate pandas DataFrames to merge\n",
    "velocity_data_to_merge_pandas = velocity_data_to_merge.to_pandas()\n",
    "\n",
    "# Merge the two DataFrames, keeping all the rows in the full DataFrame\n",
    "velocities_merged = pd.merge(merged, velocity_data_to_merge_pandas, on=\"galaxy ID\", how=\"left\")\n",
    "\n",
    "# Make copy of data\n",
    "all_data_pandas = velocities_merged.copy()\n",
    "\n",
    "# Create column for identifying galaxies in volume limit\n",
    "all_data_pandas[\"volume_limited_sample\"] = 0\n",
    "\n",
    "# Set volume_limited_sample == 1 if galaxy is in volume limit\n",
    "all_data_pandas.loc[(all_data_pandas[\"Best_Mr_new\"] < -19) & (all_data_pandas[\"z_group_mean\"] < 0.05), \"volume_limited_sample\"] = 1\n",
    "\n",
    "# Print information about number of galaxies in volume limit\n",
    "print(\"Number of galaxies in volume limit: \" + str(sum(all_data_pandas[\"volume_limited_sample\"])))\n",
    "print(\"Fraction of all galaxies in volume limit: \" + str(sum(all_data_pandas[\"volume_limited_sample\"]) / len(all_data_pandas)))\n",
    "print(\"Number of mergers in volume limit: \" + str(len(all_data_pandas[(all_data_pandas[\"volume_limited_sample\"] == 1) & (all_data_pandas[\"Merger_classifications\"] >= 1)])))"
   ]
  },
  {
   "cell_type": "markdown",
   "metadata": {},
   "source": [
    "### Volume limited groups\n",
    "Now that we have volume limited our sample, we would like to calculate the number of galaxies that are in the volume limit in each group, or the number of galaxies with $M_r < -19$ in each group. We are only interested in groups for which at least one member has either GZ1 or GZ2 data. If a group does not have any GZ data then we have no morphological information about any of its members and should not be included in the following analysis.\n",
    "\n",
    "We add a column to our data below containing the number of galaxies in each group that are in the volume limited sample."
   ]
  },
  {
   "cell_type": "code",
   "execution_count": 4,
   "metadata": {},
   "outputs": [],
   "source": [
    "# Group by group id and count the number of galaxies in each group in volume limit\n",
    "volume_limited_galaxies_in_group = all_data_pandas.groupby(\"group_id_new\")[\"volume_limited_sample\"].sum()\n",
    "volume_limited_galaxies_in_group.rename(\"volume_limited_galaxies_in_group\", inplace=True)\n",
    "\n",
    "# Merge group size for volume limited groups with main data table\n",
    "all_data_pandas = pd.merge(all_data_pandas, volume_limited_galaxies_in_group, on=\"group_id_new\", how=\"left\")\n",
    "\n",
    "# Choose only galaxies in volume limit\n",
    "volume_limited_groups = all_data_pandas[all_data_pandas[\"volume_limited_sample\"] == 1].copy()\n",
    "\n",
    "# Add column with value = 0 if the galaxy does not have GZ data, value = 1 if the galaxy does have GZ data\n",
    "volume_limited_groups[\"GZ\"] = 0\n",
    "volume_limited_groups.loc[(volume_limited_groups[\"GZ1\"] == 1) | (volume_limited_groups[\"GZ2\"] == 1), \"GZ\"] = 1\n",
    "\n",
    "# Count the number of galaxies in each group in the volume limit that have Galaxy Zoo data\n",
    "volume_limited_groups_GZ_galaxies = volume_limited_groups.groupby(\"group_id_new\")[\"GZ\"].sum()\n",
    "volume_limited_groups_GZ_galaxies.rename(\"GZ_galaxies_in_group\", inplace=True)\n",
    "volume_limited_groups_GZ_galaxies\n",
    "\n",
    "volume_limited_groups = pd.merge(volume_limited_groups, volume_limited_groups_GZ_galaxies, on=\"group_id_new\", how=\"left\")\n",
    "\n",
    "# Remove any groups from the volume limit which we have no GZ data for\n",
    "volume_limited_groups = volume_limited_groups[volume_limited_groups[\"GZ_galaxies_in_group\"] > 0].copy()"
   ]
  },
  {
   "cell_type": "markdown",
   "metadata": {},
   "source": [
    "## Merger fraction of each group\n",
    "\n",
    "For each group, we will calculate the merger fraction by finding the fraction of galaxies that are merging in each group."
   ]
  },
  {
   "cell_type": "code",
   "execution_count": 5,
   "metadata": {},
   "outputs": [],
   "source": [
    "volume_limited_data = volume_limited_groups.copy()"
   ]
  },
  {
   "cell_type": "code",
   "execution_count": 6,
   "metadata": {},
   "outputs": [
    {
     "name": "stdout",
     "output_type": "stream",
     "text": [
      "Number of groups to calculate for: 7035\n",
      "Progress: 2000 groups done\n",
      "Progress: 4000 groups done\n",
      "Progress: 6000 groups done\n",
      "Progress: Done\n"
     ]
    }
   ],
   "source": [
    "# Select only needed columns\n",
    "groups_data_greater_than_1 = volume_limited_data[volume_limited_data[\"volume_limited_galaxies_in_group\"] > 1][[\"galaxy ID\", \"group_id_new\", \"volume_limited_galaxies_in_group\", \"Merger_classifications\"]].copy()\n",
    "# Groupby galaxy group id, creating a dictrionary with group id as the key, and the indicies of the galaxies as values\n",
    "groups_data_greater_than_1 = groups_data_greater_than_1.reset_index()\n",
    "groups = groups_data_greater_than_1.groupby(\"group_id_new\").indices\n",
    "\n",
    "# Add the new desired columns to the DataFrame\n",
    "groups_data_greater_than_1[\"Mergers_in_group\"] = 0\n",
    "groups_data_greater_than_1[\"group_merger_fraction\"] = 0\n",
    "\n",
    "# Print the number of groups the calculation must be done for\n",
    "print(\"Number of groups to calculate for: \" + str(len(groups)))\n",
    "i = 1\n",
    "\n",
    "for key, values in groups.items(): # Iterate over the dictionary of group ids\n",
    "    \n",
    "    # Count number of mergers in group\n",
    "    individual_group = groups_data_greater_than_1.loc[values].copy()\n",
    "    groups_data_greater_than_1.loc[values, \"Mergers_in_group\"] = len(individual_group[individual_group[\"Merger_classifications\"] > 0])\n",
    "    groups_data_greater_than_1.loc[values, \"group_merger_fraction\"] = groups_data_greater_than_1.loc[values[0], \"Mergers_in_group\"] / len(individual_group)\n",
    "    \n",
    "    # Progress checker\n",
    "    if i % 2000 == 0:\n",
    "        print(\"Progress: \" + str(i) + \" groups done\")\n",
    "    elif i == len(groups):\n",
    "        print(\"Progress: Done\")\n",
    "    i += 1"
   ]
  },
  {
   "cell_type": "code",
   "execution_count": 7,
   "metadata": {},
   "outputs": [],
   "source": [
    "groups_data_greater_than_1_needed = groups_data_greater_than_1[[\"galaxy ID\", \"Mergers_in_group\", \"group_merger_fraction\"]].copy()\n",
    "groups_data = pd.merge(volume_limited_data, groups_data_greater_than_1_needed, how=\"left\", on=\"galaxy ID\")\n",
    "\n",
    "groups_data.loc[groups_data[\"volume_limited_galaxies_in_group\"] == 1, \"Mergers_in_group\"] = groups_data.loc[groups_data[\"volume_limited_galaxies_in_group\"] == 1, \"Merger_classifications\"]\n",
    "groups_data.loc[(groups_data[\"volume_limited_galaxies_in_group\"] == 1) & (groups_data[\"Merger_classifications\"] == 2), \"Merger_classifications\"] = 1\n",
    "groups_data.loc[groups_data[\"volume_limited_galaxies_in_group\"] == 1, \"group_merger_fraction\"] = groups_data.loc[groups_data[\"volume_limited_galaxies_in_group\"] == 1, \"Mergers_in_group\"]\n",
    "groups_data[\"Mergers_in_group\"] = groups_data[\"Mergers_in_group\"].astype(int)\n",
    "\n",
    "volume_limited_data = groups_data.copy()"
   ]
  },
  {
   "cell_type": "markdown",
   "metadata": {},
   "source": [
    "## $N=2$ groups separation\n",
    "\n",
    "Below we only consider groups with 2 members. We calculate the 2d separation between a galaxy and it's nearest neighbour (not necessarily the other galaxy in the group) and the 3d separation using distances estimated by redshifts."
   ]
  },
  {
   "cell_type": "code",
   "execution_count": 8,
   "metadata": {},
   "outputs": [],
   "source": [
    "from astropy.cosmology import Planck18_arXiv_v2\n",
    "from astropy.coordinates import SkyCoord\n",
    "from astropy import units as u"
   ]
  },
  {
   "cell_type": "code",
   "execution_count": 9,
   "metadata": {},
   "outputs": [
    {
     "name": "stdout",
     "output_type": "stream",
     "text": [
      "Number of galaxies to calculate for: 8670\n",
      "Progress: 0 galaxies done\n",
      "Progress: 2000 galaxies done\n",
      "Progress: 4000 galaxies done\n",
      "Progress: 6000 galaxies done\n",
      "Progress: 8000 galaxies done\n",
      "Progress: Done\n"
     ]
    }
   ],
   "source": [
    "# Select only N=2 groups\n",
    "n_equals_2_groups = volume_limited_data[volume_limited_data[\"volume_limited_galaxies_in_group\"] == 2][[\"galaxy ID\", \"group_id_new\", \"ra_galaxy\", \"dec_galaxy\", \"Best_redshift_new\", \"Merger_classifications\"]].copy()\n",
    "n_equals_2_groups = n_equals_2_groups.reset_index()\n",
    "n_equals_2_groups[\"Distance\"] = Planck18_arXiv_v2.comoving_distance(n_equals_2_groups[\"Best_redshift_new\"]).value\n",
    "\n",
    "# Add the new desired columns to the DataFrame\n",
    "n_equals_2_groups[\"Nearest_neighbour_separation_2d_working\"] = 0\n",
    "n_equals_2_groups[\"Nearest_galaxy_id\"] = 0\n",
    "n_equals_2_groups[\"Nearest_neighbour_separation_2d\"] = 0\n",
    "n_equals_2_groups[\"Nearest_neighbour_separation_3d\"] = 0\n",
    "\n",
    "# Print the number of groups the calculation must be done for\n",
    "print(\"Number of galaxies to calculate for: \" + str(len(n_equals_2_groups)))\n",
    "\n",
    "for i in range(len(n_equals_2_groups)):\n",
    "    \n",
    "    galaxy_i = pd.DataFrame(n_equals_2_groups.loc[i]).transpose()\n",
    "    galaxy_i_sky_coord = SkyCoord(ra=galaxy_i[\"ra_galaxy\"].values*u.degree, dec=galaxy_i[\"dec_galaxy\"].values*u.degree, distance=galaxy_i[\"Distance\"].values*u.Mpc)\n",
    "    \n",
    "    n_equals_2_groups.loc[~n_equals_2_groups.index.isin([i]), \"Nearest_neighbour_separation_2d_working\"] = galaxy_i_sky_coord.separation( SkyCoord(ra=n_equals_2_groups.loc[~n_equals_2_groups.index.isin([i]), \"ra_galaxy\"].values*u.degree, dec=n_equals_2_groups.loc[~n_equals_2_groups.index.isin([i]), \"dec_galaxy\"].values*u.degree) ).to(u.arcsecond).value\n",
    "    \n",
    "    not_galaxy_i = n_equals_2_groups.loc[~n_equals_2_groups.index.isin([i])]\n",
    "    min_index = not_galaxy_i.loc[not_galaxy_i[\"Nearest_neighbour_separation_2d_working\"] == not_galaxy_i[\"Nearest_neighbour_separation_2d_working\"].min()].index\n",
    "    \n",
    "    n_equals_2_groups.loc[i, \"Nearest_galaxy_id\"] = n_equals_2_groups.loc[min_index, \"galaxy ID\"].values\n",
    "    n_equals_2_groups.loc[i, \"Nearest_neighbour_separation_2d\"] = n_equals_2_groups.loc[min_index, \"Nearest_neighbour_separation_2d_working\"].values\n",
    "    min_sep_sky_coord = SkyCoord(ra=n_equals_2_groups.loc[min_index, \"ra_galaxy\"].values*u.degree, dec=n_equals_2_groups.loc[min_index, \"dec_galaxy\"].values*u.degree, distance=n_equals_2_groups.loc[min_index, \"Distance\"].values*u.Mpc)\n",
    "    n_equals_2_groups.loc[i, \"Nearest_neighbour_separation_3d\"] = galaxy_i_sky_coord.separation_3d(min_sep_sky_coord).to(u.Mpc).value\n",
    "    \n",
    "    # Progress checker\n",
    "    if i % 2000 == 0:\n",
    "        print(\"Progress: \" + str(i) + \" galaxies done\")\n",
    "    elif i == (len(n_equals_2_groups) - 1):\n",
    "        print(\"Progress: Done\")\n",
    "    i += 1"
   ]
  },
  {
   "cell_type": "code",
   "execution_count": 10,
   "metadata": {},
   "outputs": [
    {
     "data": {
      "text/html": [
       "<div>\n",
       "<style scoped>\n",
       "    .dataframe tbody tr th:only-of-type {\n",
       "        vertical-align: middle;\n",
       "    }\n",
       "\n",
       "    .dataframe tbody tr th {\n",
       "        vertical-align: top;\n",
       "    }\n",
       "\n",
       "    .dataframe thead th {\n",
       "        text-align: right;\n",
       "    }\n",
       "</style>\n",
       "<table border=\"1\" class=\"dataframe\">\n",
       "  <thead>\n",
       "    <tr style=\"text-align: right;\">\n",
       "      <th></th>\n",
       "      <th>galaxy ID</th>\n",
       "      <th>group_id_new</th>\n",
       "      <th>Nearest_galaxy_id</th>\n",
       "      <th>Nearest_neighbour_separation_2d</th>\n",
       "      <th>Nearest_neighbour_separation_2d</th>\n",
       "    </tr>\n",
       "  </thead>\n",
       "  <tbody>\n",
       "    <tr>\n",
       "      <th>7643</th>\n",
       "      <td>563378</td>\n",
       "      <td>62574</td>\n",
       "      <td>563380</td>\n",
       "      <td>215.550186</td>\n",
       "      <td>215.550186</td>\n",
       "    </tr>\n",
       "    <tr>\n",
       "      <th>7644</th>\n",
       "      <td>563380</td>\n",
       "      <td>62574</td>\n",
       "      <td>563378</td>\n",
       "      <td>215.550186</td>\n",
       "      <td>215.550186</td>\n",
       "    </tr>\n",
       "  </tbody>\n",
       "</table>\n",
       "</div>"
      ],
      "text/plain": [
       "      galaxy ID  group_id_new  Nearest_galaxy_id  \\\n",
       "7643     563378         62574             563380   \n",
       "7644     563380         62574             563378   \n",
       "\n",
       "      Nearest_neighbour_separation_2d  Nearest_neighbour_separation_2d  \n",
       "7643                       215.550186                       215.550186  \n",
       "7644                       215.550186                       215.550186  "
      ]
     },
     "metadata": {},
     "output_type": "display_data"
    },
    {
     "data": {
      "text/plain": [
       "<SkyCoord (ICRS): (ra, dec, distance) in (deg, deg, Mpc)\n",
       "    (162.04491324, 22.25029437, 201.50170792)>"
      ]
     },
     "metadata": {},
     "output_type": "display_data"
    },
    {
     "data": {
      "text/plain": [
       "<SkyCoord (ICRS): (ra, dec, distance) in (deg, deg, Mpc)\n",
       "    (162.08992635, 22.20729646, 202.14606259)>"
      ]
     },
     "metadata": {},
     "output_type": "display_data"
    },
    {
     "data": {
      "text/latex": [
       "$215.55\\mathrm{{}^{\\prime\\prime}}$"
      ],
      "text/plain": [
       "<Angle 215.5501862 arcsec>"
      ]
     },
     "metadata": {},
     "output_type": "display_data"
    },
    {
     "data": {
      "text/latex": [
       "$0.67799379 \\; \\mathrm{Mpc}$"
      ],
      "text/plain": [
       "<Distance 0.67799379 Mpc>"
      ]
     },
     "metadata": {},
     "output_type": "display_data"
    }
   ],
   "source": [
    "testing = n_equals_2_groups[n_equals_2_groups[\"group_id_new\"] == np.random.choice(np.unique(n_equals_2_groups[\"group_id_new\"]))]\n",
    "display(testing[[\"galaxy ID\", \"group_id_new\", \"Nearest_galaxy_id\", \"Nearest_neighbour_separation_2d\", \"Nearest_neighbour_separation_2d\"]])\n",
    "\n",
    "testing = testing.reset_index()\n",
    "\n",
    "c1 = SkyCoord(ra=testing.loc[0, \"ra_galaxy\"]*u.degree, dec=testing.loc[0, \"dec_galaxy\"]*u.degree, distance=testing.loc[0, \"Distance\"]*u.Mpc)\n",
    "display(c1)\n",
    "\n",
    "c2 = SkyCoord(ra=testing.loc[1, \"ra_galaxy\"]*u.degree, dec=testing.loc[1, \"dec_galaxy\"]*u.degree, distance=testing.loc[1, \"Distance\"]*u.Mpc)\n",
    "display(c2)\n",
    "\n",
    "display(c1.separation(c2).to(u.arcsecond))\n",
    "\n",
    "display(c1.separation_3d(c2))"
   ]
  },
  {
   "cell_type": "markdown",
   "metadata": {},
   "source": [
    "### Histograms of 2D/3D separation\n",
    "\n",
    "We plot histograms of the calculated 2d and 3d separations to get an idea of how separations are spread."
   ]
  },
  {
   "cell_type": "code",
   "execution_count": 31,
   "metadata": {},
   "outputs": [
    {
     "data": {
      "image/png": "[encoded data removed]",
      "text/plain": [
       "<Figure size 720x504 with 1 Axes>"
      ]
     },
     "metadata": {
      "needs_background": "light"
     },
     "output_type": "display_data"
    }
   ],
   "source": [
    "plt.figure(figsize=(10,7))\n",
    "bins_2d = np.arange(0, 1.05, 1 / 30) * max(n_equals_2_groups[\"Nearest_neighbour_separation_2d\"])\n",
    "plt.hist(n_equals_2_groups[\"Nearest_neighbour_separation_2d\"], bins=bins_2d, label=\"All N=2 galaxies\")\n",
    "plt.hist(n_equals_2_groups[n_equals_2_groups[\"Merger_classifications\"] > 0][\"Nearest_neighbour_separation_2d\"], bins=bins_2d, label=\"Mergers\")\n",
    "# plt.xscale(\"log\")\n",
    "plt.yscale(\"log\")\n",
    "plt.xlabel(\"2D separation, arcsec\", fontsize=12)\n",
    "plt.ylabel(\"Number of galaxies\", fontsize=12)\n",
    "plt.title(\"Spread of 2D separation between galaxies in $N=2$ groups and their nearest neighbour\", fontsize=12)\n",
    "plt.show()"
   ]
  },
  {
   "cell_type": "code",
   "execution_count": 37,
   "metadata": {},
   "outputs": [
    {
     "data": {
      "image/png": "[encoded data removed]",
      "text/plain": [
       "<Figure size 720x504 with 1 Axes>"
      ]
     },
     "metadata": {
      "needs_background": "light"
     },
     "output_type": "display_data"
    }
   ],
   "source": [
    "plt.figure(figsize=(10,7))\n",
    "bins_3d = np.arange(0, 1.05, 1 / 30) * max(n_equals_2_groups[\"Nearest_neighbour_separation_3d\"])\n",
    "plt.hist(n_equals_2_groups[\"Nearest_neighbour_separation_3d\"], bins=bins_3d, label=\"All N=2 galaxies\")\n",
    "plt.hist(n_equals_2_groups[n_equals_2_groups[\"Merger_classifications\"] > 0][\"Nearest_neighbour_separation_3d\"], bins=bins_3d, label=\"Mergers\")\n",
    "# plt.xscale(\"log\")\n",
    "plt.yscale(\"log\")\n",
    "plt.xlabel(\"3D separation, Mpc\", fontsize=12)\n",
    "plt.ylabel(\"Number of galaxies\", fontsize=12)\n",
    "plt.title(\"Spread of 3D separation between galaxies in $N=2$ groups and their nearest 2D neighbour\", fontsize=12)\n",
    "plt.legend()\n",
    "plt.show()"
   ]
  },
  {
   "cell_type": "code",
   "execution_count": 38,
   "metadata": {},
   "outputs": [
    {
     "data": {
      "image/png": "[encoded data removed]",
      "text/plain": [
       "<Figure size 720x504 with 1 Axes>"
      ]
     },
     "metadata": {
      "needs_background": "light"
     },
     "output_type": "display_data"
    }
   ],
   "source": [
    "plt.figure(figsize=(10,7))\n",
    "bins_3d = np.arange(0, 1.05, 1 / 30) * 40\n",
    "plt.hist(n_equals_2_groups[n_equals_2_groups[\"Nearest_neighbour_separation_3d\"] < 40][\"Nearest_neighbour_separation_3d\"], bins=bins_3d, label=\"All N=2 galaxies\")\n",
    "plt.hist(n_equals_2_groups[(n_equals_2_groups[\"Nearest_neighbour_separation_3d\"] < 40) & (n_equals_2_groups[\"Merger_classifications\"] > 0)][\"Nearest_neighbour_separation_3d\"], bins=bins_3d, label=\"Mergers\")\n",
    "# plt.xscale(\"log\")\n",
    "plt.yscale(\"log\")\n",
    "plt.xlabel(\"3D separation, Mpc\", fontsize=12)\n",
    "plt.ylabel(\"Number of galaxies\", fontsize=12)\n",
    "plt.title(\"Spread of 3D separation ($< 40 Mpc$) between galaxies in $N=2$ groups and their nearest 2D neighbour\", fontsize=12)\n",
    "plt.legend()\n",
    "plt.show()"
   ]
  },
  {
   "cell_type": "markdown",
   "metadata": {},
   "source": [
    "## Merger fraction vs 2D separation\n",
    "\n",
    "We now calculate hwo the merger fraction changes with the 2D separation between galaxies in $N=2$ groups."
   ]
  },
  {
   "cell_type": "code",
   "execution_count": 43,
   "metadata": {},
   "outputs": [
    {
     "name": "stdout",
     "output_type": "stream",
     "text": [
      "Bins: [2.64546385e-02 1.89430267e+01 3.88031411e+01 5.66179043e+01\n",
      " 8.93693148e+01 1.24728227e+02 1.70204625e+02 2.18604794e+02\n",
      " 2.83939249e+02 3.93495793e+02 1.37284075e+03]\n"
     ]
    },
    {
     "data": {
      "text/html": [
       "<div>\n",
       "<style scoped>\n",
       "    .dataframe tbody tr th:only-of-type {\n",
       "        vertical-align: middle;\n",
       "    }\n",
       "\n",
       "    .dataframe tbody tr th {\n",
       "        vertical-align: top;\n",
       "    }\n",
       "\n",
       "    .dataframe thead th {\n",
       "        text-align: right;\n",
       "    }\n",
       "</style>\n",
       "<table border=\"1\" class=\"dataframe\">\n",
       "  <thead>\n",
       "    <tr style=\"text-align: right;\">\n",
       "      <th></th>\n",
       "      <th>Average separation in bin</th>\n",
       "      <th>Merger fraction $f_m$</th>\n",
       "      <th>Galaxies in bin</th>\n",
       "      <th>Groups in bin</th>\n",
       "    </tr>\n",
       "  </thead>\n",
       "  <tbody>\n",
       "    <tr>\n",
       "      <th>0</th>\n",
       "      <td>10.504171</td>\n",
       "      <td>0.397924</td>\n",
       "      <td>867</td>\n",
       "      <td>434</td>\n",
       "    </tr>\n",
       "    <tr>\n",
       "      <th>1</th>\n",
       "      <td>29.291698</td>\n",
       "      <td>0.134793</td>\n",
       "      <td>868</td>\n",
       "      <td>435</td>\n",
       "    </tr>\n",
       "    <tr>\n",
       "      <th>2</th>\n",
       "      <td>46.956667</td>\n",
       "      <td>0.036952</td>\n",
       "      <td>866</td>\n",
       "      <td>433</td>\n",
       "    </tr>\n",
       "    <tr>\n",
       "      <th>3</th>\n",
       "      <td>72.189196</td>\n",
       "      <td>0.025375</td>\n",
       "      <td>867</td>\n",
       "      <td>434</td>\n",
       "    </tr>\n",
       "    <tr>\n",
       "      <th>4</th>\n",
       "      <td>107.196091</td>\n",
       "      <td>0.019608</td>\n",
       "      <td>867</td>\n",
       "      <td>432</td>\n",
       "    </tr>\n",
       "    <tr>\n",
       "      <th>5</th>\n",
       "      <td>147.446346</td>\n",
       "      <td>0.012687</td>\n",
       "      <td>867</td>\n",
       "      <td>430</td>\n",
       "    </tr>\n",
       "    <tr>\n",
       "      <th>6</th>\n",
       "      <td>194.344936</td>\n",
       "      <td>0.006920</td>\n",
       "      <td>867</td>\n",
       "      <td>437</td>\n",
       "    </tr>\n",
       "    <tr>\n",
       "      <th>7</th>\n",
       "      <td>246.747397</td>\n",
       "      <td>0.009217</td>\n",
       "      <td>868</td>\n",
       "      <td>431</td>\n",
       "    </tr>\n",
       "    <tr>\n",
       "      <th>8</th>\n",
       "      <td>330.553880</td>\n",
       "      <td>0.009238</td>\n",
       "      <td>866</td>\n",
       "      <td>435</td>\n",
       "    </tr>\n",
       "    <tr>\n",
       "      <th>9</th>\n",
       "      <td>551.445307</td>\n",
       "      <td>0.014994</td>\n",
       "      <td>867</td>\n",
       "      <td>434</td>\n",
       "    </tr>\n",
       "  </tbody>\n",
       "</table>\n",
       "</div>"
      ],
      "text/plain": [
       "   Average separation in bin  Merger fraction $f_m$  Galaxies in bin  \\\n",
       "0                  10.504171               0.397924              867   \n",
       "1                  29.291698               0.134793              868   \n",
       "2                  46.956667               0.036952              866   \n",
       "3                  72.189196               0.025375              867   \n",
       "4                 107.196091               0.019608              867   \n",
       "5                 147.446346               0.012687              867   \n",
       "6                 194.344936               0.006920              867   \n",
       "7                 246.747397               0.009217              868   \n",
       "8                 330.553880               0.009238              866   \n",
       "9                 551.445307               0.014994              867   \n",
       "\n",
       "   Groups in bin  \n",
       "0            434  \n",
       "1            435  \n",
       "2            433  \n",
       "3            434  \n",
       "4            432  \n",
       "5            430  \n",
       "6            437  \n",
       "7            431  \n",
       "8            435  \n",
       "9            434  "
      ]
     },
     "metadata": {},
     "output_type": "display_data"
    },
    {
     "data": {
      "image/png": "[encoded data removed]",
      "text/plain": [
       "<Figure size 720x504 with 1 Axes>"
      ]
     },
     "metadata": {
      "needs_background": "light"
     },
     "output_type": "display_data"
    }
   ],
   "source": [
    "# Create logarithmic bins of equal size without small groups\n",
    "separation_2d = n_equals_2_groups[\"Nearest_neighbour_separation_2d\"]\n",
    "equal_log_bins = pd.qcut(x=np.log10(separation_2d), q=10, labels=False, retbins=True, duplicates=\"drop\")[1]\n",
    "equal_log_bins = np.power(10, equal_log_bins)\n",
    "# equal_log_bins = np.round(equal_log_bins, 0)\n",
    "\n",
    "# Print the bins that have been calculated\n",
    "print(\"Bins: \" + str(equal_log_bins))\n",
    "\n",
    "\n",
    "# plt.figure(figsize=(12,8))\n",
    "# # Plot histogram of group size using logarithmic bins\n",
    "# plt.hist(separation_2d, bins=equal_log_bins, edgecolor=\"black\", histtype=\"stepfilled\")\n",
    "# plt.xscale(\"log\")\n",
    "# # plt.yscale(\"log\")\n",
    "# plt.ylim(bottom=0)\n",
    "# plt.xlabel(\"Size of group\", fontsize=12)\n",
    "# plt.ylabel(\"Number of galaxies\", fontsize=12)\n",
    "# plt.title(\"Number of galaxies in group using equal size logarithmic bins\", fontsize=12)\n",
    "# plt.show()\n",
    "\n",
    "\n",
    "# Define a function that given some data, will return the merger fraction against redshift\n",
    "def merger_fraction_separation_2d_binning(limited_data, separation_bins):\n",
    "    \"\"\"Takes data, picks out mergers and calculates the merger fraction using\n",
    "    the bins provided. Returns an array of merger fraction against group size,\n",
    "    the average group size of galaxies in bin for plotting and the number\n",
    "    of galaxies in each bin.\"\"\"\n",
    "    \n",
    "    # Resample table with only the data needed\n",
    "    limited_data = limited_data[[\"Nearest_neighbour_separation_2d\", \"Merger_classifications\", \"group_id_new\"]]\n",
    "    \n",
    "    groups_unique = limited_data.drop_duplicates(subset=[\"group_id_new\"], keep=\"first\")\n",
    "    \n",
    "    # Bin data by group size, with the bin sizes specified\n",
    "    allbinned, bin_edges = np.histogram(limited_data[\"Nearest_neighbour_separation_2d\"], bins=separation_bins)\n",
    "    groups_unique_binned, bin_edges = np.histogram(groups_unique[\"Nearest_neighbour_separation_2d\"], bins=separation_bins)\n",
    "    mergersbinned, bin_edges = np.histogram(limited_data[limited_data[\"Merger_classifications\"] > 0][\"Nearest_neighbour_separation_2d\"], bins=separation_bins)\n",
    "    \n",
    "    # Calculate the average group size in each bin for plotting data\n",
    "    bin_centres=[]\n",
    "    bin_edges[-1] += 1\n",
    "    for i in range(len(bin_edges) - 1):\n",
    "        bin_centres.append(limited_data[(limited_data[\"Nearest_neighbour_separation_2d\"] >= bin_edges[i]) & (limited_data[\"Nearest_neighbour_separation_2d\"] < bin_edges[i + 1])][\"Nearest_neighbour_separation_2d\"].mean())\n",
    "    \n",
    "    allbinned = allbinned.astype(float)\n",
    "    mergersbinned = mergersbinned.astype(float)\n",
    "    \n",
    "    # Find merger fraction\n",
    "    merger_fraction_group = mergersbinned / allbinned\n",
    "    \n",
    "    return merger_fraction_group, bin_centres, allbinned.astype(int), groups_unique_binned.astype(int)\n",
    "\n",
    "# Call function with all_data and calculated logarithmic bins\n",
    "merger_fraction_separation_2d, separation_2d_bin_centres, galaxies_in_bin, groups_in_bin = merger_fraction_separation_2d_binning(n_equals_2_groups, equal_log_bins)\n",
    "\n",
    "# Create dataframe of average group size, merger fraction and gaalxies in each bin and display it\n",
    "merger_fraction_separation_2d_info = list(zip(separation_2d_bin_centres, merger_fraction_separation_2d, galaxies_in_bin, groups_in_bin))\n",
    "merger_fraction_separation_2d_info_df = pd.DataFrame(merger_fraction_separation_2d_info, columns=[\"Average separation in bin\", \"Merger fraction $f_m$\", \"Galaxies in bin\", \"Groups in bin\"])\n",
    "display(merger_fraction_separation_2d_info_df)\n",
    "\n",
    "\n",
    "plt.figure(figsize=(10,7))\n",
    "plt.plot(separation_2d_bin_centres, merger_fraction_separation_2d, label=\"Data\")\n",
    "# plt.fill_between(group_size_bin_centres[1:], merger_fraction_group_size_bootstrapped_min[1:], merger_fraction_group_size_bootstrapped_max[1:], alpha=0.3)\n",
    "# plt.axhline(y=merger_fraction_groups[0], linestyle=(0, (5, 10)), c=\"red\", label=\"Field value\")\n",
    "# plt.xscale(\"log\")\n",
    "# plt.xlim(left=1)\n",
    "plt.ylim(bottom=0)\n",
    "plt.xlabel(\"2D separation, arcsec\", fontsize=12)\n",
    "plt.ylabel(\"Merger fraction\", fontsize=12)\n",
    "plt.title(\"Merger fraction against 2D separation for galaxies in $N=2$ groups\", fontsize=12)\n",
    "\n",
    "plt.show()"
   ]
  },
  {
   "cell_type": "markdown",
   "metadata": {},
   "source": [
    "## Merger fraction vs 3D separation\n",
    "\n",
    "We now calculate hwo the merger fraction changes with the 3D separation between galaxies in $N=2$ groups."
   ]
  },
  {
   "cell_type": "code",
   "execution_count": 46,
   "metadata": {
    "scrolled": false
   },
   "outputs": [
    {
     "name": "stdout",
     "output_type": "stream",
     "text": [
      "Bins: [1.76811901e-05 2.81029625e-02 1.18972136e-01 3.37143783e-01\n",
      " 5.28718142e-01 7.48882142e-01 9.98156563e-01 1.29157339e+00\n",
      " 1.68787492e+00 2.32702438e+00 1.64980355e+02]\n"
     ]
    },
    {
     "data": {
      "text/html": [
       "<div>\n",
       "<style scoped>\n",
       "    .dataframe tbody tr th:only-of-type {\n",
       "        vertical-align: middle;\n",
       "    }\n",
       "\n",
       "    .dataframe tbody tr th {\n",
       "        vertical-align: top;\n",
       "    }\n",
       "\n",
       "    .dataframe thead th {\n",
       "        text-align: right;\n",
       "    }\n",
       "</style>\n",
       "<table border=\"1\" class=\"dataframe\">\n",
       "  <thead>\n",
       "    <tr style=\"text-align: right;\">\n",
       "      <th></th>\n",
       "      <th>Average separation in bin</th>\n",
       "      <th>Merger fraction $f_m$</th>\n",
       "      <th>Galaxies in bin</th>\n",
       "      <th>Groups in bin</th>\n",
       "    </tr>\n",
       "  </thead>\n",
       "  <tbody>\n",
       "    <tr>\n",
       "      <th>0</th>\n",
       "      <td>0.013475</td>\n",
       "      <td>0.251152</td>\n",
       "      <td>868</td>\n",
       "      <td>434</td>\n",
       "    </tr>\n",
       "    <tr>\n",
       "      <th>1</th>\n",
       "      <td>0.048308</td>\n",
       "      <td>0.032370</td>\n",
       "      <td>865</td>\n",
       "      <td>432</td>\n",
       "    </tr>\n",
       "    <tr>\n",
       "      <th>2</th>\n",
       "      <td>0.234175</td>\n",
       "      <td>0.033410</td>\n",
       "      <td>868</td>\n",
       "      <td>435</td>\n",
       "    </tr>\n",
       "    <tr>\n",
       "      <th>3</th>\n",
       "      <td>0.429068</td>\n",
       "      <td>0.047344</td>\n",
       "      <td>866</td>\n",
       "      <td>431</td>\n",
       "    </tr>\n",
       "    <tr>\n",
       "      <th>4</th>\n",
       "      <td>0.639761</td>\n",
       "      <td>0.036866</td>\n",
       "      <td>868</td>\n",
       "      <td>433</td>\n",
       "    </tr>\n",
       "    <tr>\n",
       "      <th>5</th>\n",
       "      <td>0.870672</td>\n",
       "      <td>0.032333</td>\n",
       "      <td>866</td>\n",
       "      <td>434</td>\n",
       "    </tr>\n",
       "    <tr>\n",
       "      <th>6</th>\n",
       "      <td>1.137093</td>\n",
       "      <td>0.052995</td>\n",
       "      <td>868</td>\n",
       "      <td>436</td>\n",
       "    </tr>\n",
       "    <tr>\n",
       "      <th>7</th>\n",
       "      <td>1.472100</td>\n",
       "      <td>0.038062</td>\n",
       "      <td>867</td>\n",
       "      <td>433</td>\n",
       "    </tr>\n",
       "    <tr>\n",
       "      <th>8</th>\n",
       "      <td>1.973352</td>\n",
       "      <td>0.054273</td>\n",
       "      <td>866</td>\n",
       "      <td>433</td>\n",
       "    </tr>\n",
       "    <tr>\n",
       "      <th>9</th>\n",
       "      <td>7.678871</td>\n",
       "      <td>0.088812</td>\n",
       "      <td>867</td>\n",
       "      <td>433</td>\n",
       "    </tr>\n",
       "  </tbody>\n",
       "</table>\n",
       "</div>"
      ],
      "text/plain": [
       "   Average separation in bin  Merger fraction $f_m$  Galaxies in bin  \\\n",
       "0                   0.013475               0.251152              868   \n",
       "1                   0.048308               0.032370              865   \n",
       "2                   0.234175               0.033410              868   \n",
       "3                   0.429068               0.047344              866   \n",
       "4                   0.639761               0.036866              868   \n",
       "5                   0.870672               0.032333              866   \n",
       "6                   1.137093               0.052995              868   \n",
       "7                   1.472100               0.038062              867   \n",
       "8                   1.973352               0.054273              866   \n",
       "9                   7.678871               0.088812              867   \n",
       "\n",
       "   Groups in bin  \n",
       "0            434  \n",
       "1            432  \n",
       "2            435  \n",
       "3            431  \n",
       "4            433  \n",
       "5            434  \n",
       "6            436  \n",
       "7            433  \n",
       "8            433  \n",
       "9            433  "
      ]
     },
     "metadata": {},
     "output_type": "display_data"
    },
    {
     "data": {
      "image/png": "[encoded data removed]",
      "text/plain": [
       "<Figure size 720x504 with 1 Axes>"
      ]
     },
     "metadata": {
      "needs_background": "light"
     },
     "output_type": "display_data"
    }
   ],
   "source": [
    "# Create logarithmic bins of equal size without small groups\n",
    "separation_3d = n_equals_2_groups[\"Nearest_neighbour_separation_3d\"]\n",
    "equal_log_bins = pd.qcut(x=np.log10(separation_3d), q=10, labels=False, retbins=True, duplicates=\"drop\")[1]\n",
    "equal_log_bins = np.power(10, equal_log_bins)\n",
    "# equal_log_bins = np.round(equal_log_bins, 0)\n",
    "\n",
    "# Print the bins that have been calculated\n",
    "print(\"Bins: \" + str(equal_log_bins))\n",
    "\n",
    "\n",
    "# plt.figure(figsize=(12,8))\n",
    "# # Plot histogram of group size using logarithmic bins\n",
    "# plt.hist(separation_3d, bins=equal_log_bins, edgecolor=\"black\", histtype=\"stepfilled\")\n",
    "# plt.xscale(\"log\")\n",
    "# # plt.yscale(\"log\")\n",
    "# plt.ylim(bottom=0)\n",
    "# plt.xlabel(\"Size of group\", fontsize=12)\n",
    "# plt.ylabel(\"Number of galaxies\", fontsize=12)\n",
    "# plt.title(\"Number of galaxies in group using equal size logarithmic bins\", fontsize=12)\n",
    "# plt.show()\n",
    "\n",
    "\n",
    "# Define a function that given some data, will return the merger fraction against redshift\n",
    "def merger_fraction_separation_3d_binning(limited_data, separation_bins):\n",
    "    \"\"\"Takes data, picks out mergers and calculates the merger fraction using\n",
    "    the bins provided. Returns an array of merger fraction against group size,\n",
    "    the average group size of galaxies in bin for plotting and the number\n",
    "    of galaxies in each bin.\"\"\"\n",
    "    \n",
    "    # Resample table with only the data needed\n",
    "    limited_data = limited_data[[\"Nearest_neighbour_separation_3d\", \"Merger_classifications\", \"group_id_new\"]]\n",
    "    \n",
    "    groups_unique = limited_data.drop_duplicates(subset=[\"group_id_new\"], keep=\"first\")\n",
    "    \n",
    "    # Bin data by group size, with the bin sizes specified\n",
    "    allbinned, bin_edges = np.histogram(limited_data[\"Nearest_neighbour_separation_3d\"], bins=separation_bins)\n",
    "    groups_unique_binned, bin_edges = np.histogram(groups_unique[\"Nearest_neighbour_separation_3d\"], bins=separation_bins)\n",
    "    mergersbinned, bin_edges = np.histogram(limited_data[limited_data[\"Merger_classifications\"] > 0][\"Nearest_neighbour_separation_3d\"], bins=separation_bins)\n",
    "    \n",
    "    # Calculate the average group size in each bin for plotting data\n",
    "    bin_centres=[]\n",
    "    bin_edges[-1] += 1\n",
    "    for i in range(len(bin_edges) - 1):\n",
    "        bin_centres.append(limited_data[(limited_data[\"Nearest_neighbour_separation_3d\"] >= bin_edges[i]) & (limited_data[\"Nearest_neighbour_separation_3d\"] < bin_edges[i + 1])][\"Nearest_neighbour_separation_3d\"].mean())\n",
    "    \n",
    "    allbinned = allbinned.astype(float)\n",
    "    mergersbinned = mergersbinned.astype(float)\n",
    "    \n",
    "    # Find merger fraction\n",
    "    merger_fraction_group = mergersbinned / allbinned\n",
    "    \n",
    "    return merger_fraction_group, bin_centres, allbinned.astype(int), groups_unique_binned.astype(int)\n",
    "\n",
    "# Call function with all_data and calculated logarithmic bins\n",
    "merger_fraction_separation_3d, separation_3d_bin_centres, galaxies_in_bin, groups_in_bin = merger_fraction_separation_3d_binning(n_equals_2_groups, equal_log_bins)\n",
    "\n",
    "# Create dataframe of average group size, merger fraction and gaalxies in each bin and display it\n",
    "merger_fraction_separation_3d_info = list(zip(separation_3d_bin_centres, merger_fraction_separation_3d, galaxies_in_bin, groups_in_bin))\n",
    "merger_fraction_separation_3d_info_df = pd.DataFrame(merger_fraction_separation_3d_info, columns=[\"Average separation in bin\", \"Merger fraction $f_m$\", \"Galaxies in bin\", \"Groups in bin\"])\n",
    "display(merger_fraction_separation_3d_info_df)\n",
    "\n",
    "\n",
    "plt.figure(figsize=(10,7))\n",
    "plt.plot(separation_3d_bin_centres, merger_fraction_separation_3d, label=\"Data\")\n",
    "# plt.fill_between(group_size_bin_centres[1:], merger_fraction_group_size_bootstrapped_min[1:], merger_fraction_group_size_bootstrapped_max[1:], alpha=0.3)\n",
    "# plt.axhline(y=merger_fraction_groups[0], linestyle=(0, (5, 10)), c=\"red\", label=\"Field value\")\n",
    "plt.xscale(\"log\")\n",
    "# plt.xlim(left=1)\n",
    "plt.ylim(bottom=0)\n",
    "plt.xlabel(\"3D separation, Mpc\", fontsize=12)\n",
    "plt.ylabel(\"Merger fraction\", fontsize=12)\n",
    "plt.title(\"Merger fraction against 3D separation of nearest 2D neighbours for galaxies in $N=2$ groups\", fontsize=12)\n",
    "\n",
    "plt.show()"
   ]
  },
  {
   "cell_type": "markdown",
   "metadata": {},
   "source": [
    "## $N=3$ groups separation\n",
    "\n",
    "We now do the same analysis as above, but for galaxies in $N=3$ groups."
   ]
  },
  {
   "cell_type": "code",
   "execution_count": 48,
   "metadata": {},
   "outputs": [
    {
     "name": "stdout",
     "output_type": "stream",
     "text": [
      "Number of galaxies to calculate for: 3399\n",
      "Progress: 0 galaxies done\n",
      "Progress: 2000 galaxies done\n",
      "Progress: Done\n"
     ]
    }
   ],
   "source": [
    "# Select only N=2 groups\n",
    "n_equals_3_groups = volume_limited_data[volume_limited_data[\"volume_limited_galaxies_in_group\"] == 3][[\"galaxy ID\", \"group_id_new\", \"ra_galaxy\", \"dec_galaxy\", \"Best_redshift_new\", \"Merger_classifications\"]].copy()\n",
    "n_equals_3_groups = n_equals_3_groups.reset_index()\n",
    "n_equals_3_groups[\"Distance\"] = Planck18_arXiv_v2.comoving_distance(n_equals_3_groups[\"Best_redshift_new\"]).value\n",
    "\n",
    "# Add the new desired columns to the DataFrame\n",
    "n_equals_3_groups[\"Nearest_neighbour_separation_2d_working\"] = 0\n",
    "n_equals_3_groups[\"Nearest_galaxy_id\"] = 0\n",
    "n_equals_3_groups[\"Nearest_neighbour_separation_2d\"] = 0\n",
    "n_equals_3_groups[\"Nearest_neighbour_separation_3d\"] = 0\n",
    "\n",
    "# Print the number of groups the calculation must be done for\n",
    "print(\"Number of galaxies to calculate for: \" + str(len(n_equals_3_groups)))\n",
    "\n",
    "for i in range(len(n_equals_3_groups)):\n",
    "    \n",
    "    galaxy_i = pd.DataFrame(n_equals_3_groups.loc[i]).transpose()\n",
    "    galaxy_i_sky_coord = SkyCoord(ra=galaxy_i[\"ra_galaxy\"].values*u.degree, dec=galaxy_i[\"dec_galaxy\"].values*u.degree, distance=galaxy_i[\"Distance\"].values*u.Mpc)\n",
    "    \n",
    "    n_equals_3_groups.loc[~n_equals_3_groups.index.isin([i]), \"Nearest_neighbour_separation_2d_working\"] = galaxy_i_sky_coord.separation( SkyCoord(ra=n_equals_3_groups.loc[~n_equals_3_groups.index.isin([i]), \"ra_galaxy\"].values*u.degree, dec=n_equals_3_groups.loc[~n_equals_3_groups.index.isin([i]), \"dec_galaxy\"].values*u.degree) ).to(u.arcsecond).value\n",
    "    \n",
    "    not_galaxy_i = n_equals_3_groups.loc[~n_equals_3_groups.index.isin([i])]\n",
    "    min_index = not_galaxy_i.loc[not_galaxy_i[\"Nearest_neighbour_separation_2d_working\"] == not_galaxy_i[\"Nearest_neighbour_separation_2d_working\"].min()].index\n",
    "    \n",
    "    n_equals_3_groups.loc[i, \"Nearest_galaxy_id\"] = n_equals_3_groups.loc[min_index, \"galaxy ID\"].values\n",
    "    n_equals_3_groups.loc[i, \"Nearest_neighbour_separation_2d\"] = n_equals_3_groups.loc[min_index, \"Nearest_neighbour_separation_2d_working\"].values\n",
    "    min_sep_sky_coord = SkyCoord(ra=n_equals_3_groups.loc[min_index, \"ra_galaxy\"].values*u.degree, dec=n_equals_3_groups.loc[min_index, \"dec_galaxy\"].values*u.degree, distance=n_equals_3_groups.loc[min_index, \"Distance\"].values*u.Mpc)\n",
    "    n_equals_3_groups.loc[i, \"Nearest_neighbour_separation_3d\"] = galaxy_i_sky_coord.separation_3d(min_sep_sky_coord).to(u.Mpc).value\n",
    "    \n",
    "    # Progress checker\n",
    "    if i % 2000 == 0:\n",
    "        print(\"Progress: \" + str(i) + \" galaxies done\")\n",
    "    elif i == (len(n_equals_3_groups) - 1):\n",
    "        print(\"Progress: Done\")\n",
    "    i += 1"
   ]
  },
  {
   "cell_type": "markdown",
   "metadata": {},
   "source": [
    "### Histograms of 2D/3D separation\n",
    "\n",
    "We plot histograms of the calculated 2d and 3d separations to get an idea of how separations are spread."
   ]
  },
  {
   "cell_type": "code",
   "execution_count": 53,
   "metadata": {},
   "outputs": [
    {
     "data": {
      "image/png": "[encoded data removed]",
      "text/plain": [
       "<Figure size 720x504 with 1 Axes>"
      ]
     },
     "metadata": {
      "needs_background": "light"
     },
     "output_type": "display_data"
    }
   ],
   "source": [
    "plt.figure(figsize=(10,7))\n",
    "bins_2d = np.arange(0, 1.05, 1 / 30) * max(n_equals_3_groups[\"Nearest_neighbour_separation_2d\"])\n",
    "plt.hist(n_equals_3_groups[\"Nearest_neighbour_separation_2d\"], bins=bins_2d, label=\"All N=3 galaxies\")\n",
    "plt.hist(n_equals_3_groups[n_equals_3_groups[\"Merger_classifications\"] > 0][\"Nearest_neighbour_separation_2d\"], bins=bins_2d, label=\"Mergers\")\n",
    "# plt.xscale(\"log\")\n",
    "plt.yscale(\"log\")\n",
    "plt.xlabel(\"2D separation, arcsec\", fontsize=12)\n",
    "plt.ylabel(\"Number of galaxies\", fontsize=12)\n",
    "plt.title(\"Spread of 2D separation between galaxies in $N=3$ groups and their nearest neighbour\", fontsize=12)\n",
    "plt.show()"
   ]
  },
  {
   "cell_type": "code",
   "execution_count": 52,
   "metadata": {},
   "outputs": [
    {
     "data": {
      "image/png": "[encoded data removed]",
      "text/plain": [
       "<Figure size 720x504 with 1 Axes>"
      ]
     },
     "metadata": {
      "needs_background": "light"
     },
     "output_type": "display_data"
    }
   ],
   "source": [
    "plt.figure(figsize=(10,7))\n",
    "bins_3d = np.arange(0, 1.05, 1 / 30) * max(n_equals_3_groups[\"Nearest_neighbour_separation_3d\"])\n",
    "plt.hist(n_equals_3_groups[\"Nearest_neighbour_separation_3d\"], bins=bins_3d, label=\"All N=3 galaxies\")\n",
    "plt.hist(n_equals_3_groups[n_equals_3_groups[\"Merger_classifications\"] > 0][\"Nearest_neighbour_separation_3d\"], bins=bins_3d, label=\"Mergers\")\n",
    "# plt.xscale(\"log\")\n",
    "plt.yscale(\"log\")\n",
    "plt.xlabel(\"3D separation, Mpc\", fontsize=12)\n",
    "plt.ylabel(\"Number of galaxies\", fontsize=12)\n",
    "plt.title(\"Spread of 3D separation between galaxies in $N=3$ groups and their nearest 2D neighbour\", fontsize=12)\n",
    "plt.legend()\n",
    "plt.show()"
   ]
  },
  {
   "cell_type": "code",
   "execution_count": 51,
   "metadata": {},
   "outputs": [
    {
     "data": {
      "image/png": "[encoded data removed]",
      "text/plain": [
       "<Figure size 720x504 with 1 Axes>"
      ]
     },
     "metadata": {
      "needs_background": "light"
     },
     "output_type": "display_data"
    }
   ],
   "source": [
    "plt.figure(figsize=(10,7))\n",
    "bins_3d = np.arange(0, 1.05, 1 / 30) * 40\n",
    "plt.hist(n_equals_3_groups[n_equals_3_groups[\"Nearest_neighbour_separation_3d\"] < 40][\"Nearest_neighbour_separation_3d\"], bins=bins_3d, label=\"All N=3 galaxies\")\n",
    "plt.hist(n_equals_3_groups[(n_equals_3_groups[\"Nearest_neighbour_separation_3d\"] < 40) & (n_equals_3_groups[\"Merger_classifications\"] > 0)][\"Nearest_neighbour_separation_3d\"], bins=bins_3d, label=\"Mergers\")\n",
    "# plt.xscale(\"log\")\n",
    "plt.yscale(\"log\")\n",
    "plt.xlabel(\"3D separation, Mpc\", fontsize=12)\n",
    "plt.ylabel(\"Number of galaxies\", fontsize=12)\n",
    "plt.title(\"Spread of 3D separation ($< 40 Mpc$) between galaxies in $N=3$ groups and their nearest 2D neighbour\", fontsize=12)\n",
    "plt.legend()\n",
    "plt.show()"
   ]
  },
  {
   "cell_type": "markdown",
   "metadata": {},
   "source": [
    "## Merger fraction vs 2D separation\n",
    "\n",
    "We now calculate hwo the merger fraction changes with the 2D separation between galaxies in $N=3$ groups."
   ]
  },
  {
   "cell_type": "code",
   "execution_count": 54,
   "metadata": {},
   "outputs": [
    {
     "name": "stdout",
     "output_type": "stream",
     "text": [
      "Bins: [8.76486270e-03 1.60568742e+01 3.50506094e+01 5.70250208e+01\n",
      " 8.93532573e+01 1.26570157e+02 1.74139947e+02 2.24788466e+02\n",
      " 3.06635537e+02 4.35805240e+02 2.58996640e+03]\n"
     ]
    },
    {
     "data": {
      "text/html": [
       "<div>\n",
       "<style scoped>\n",
       "    .dataframe tbody tr th:only-of-type {\n",
       "        vertical-align: middle;\n",
       "    }\n",
       "\n",
       "    .dataframe tbody tr th {\n",
       "        vertical-align: top;\n",
       "    }\n",
       "\n",
       "    .dataframe thead th {\n",
       "        text-align: right;\n",
       "    }\n",
       "</style>\n",
       "<table border=\"1\" class=\"dataframe\">\n",
       "  <thead>\n",
       "    <tr style=\"text-align: right;\">\n",
       "      <th></th>\n",
       "      <th>Average separation in bin</th>\n",
       "      <th>Merger fraction $f_m$</th>\n",
       "      <th>Galaxies in bin</th>\n",
       "      <th>Groups in bin</th>\n",
       "    </tr>\n",
       "  </thead>\n",
       "  <tbody>\n",
       "    <tr>\n",
       "      <th>0</th>\n",
       "      <td>9.568890</td>\n",
       "      <td>0.373529</td>\n",
       "      <td>340</td>\n",
       "      <td>107</td>\n",
       "    </tr>\n",
       "    <tr>\n",
       "      <th>1</th>\n",
       "      <td>25.258067</td>\n",
       "      <td>0.202941</td>\n",
       "      <td>340</td>\n",
       "      <td>104</td>\n",
       "    </tr>\n",
       "    <tr>\n",
       "      <th>2</th>\n",
       "      <td>45.575311</td>\n",
       "      <td>0.070588</td>\n",
       "      <td>340</td>\n",
       "      <td>102</td>\n",
       "    </tr>\n",
       "    <tr>\n",
       "      <th>3</th>\n",
       "      <td>72.115990</td>\n",
       "      <td>0.023529</td>\n",
       "      <td>340</td>\n",
       "      <td>106</td>\n",
       "    </tr>\n",
       "    <tr>\n",
       "      <th>4</th>\n",
       "      <td>107.397560</td>\n",
       "      <td>0.014749</td>\n",
       "      <td>339</td>\n",
       "      <td>113</td>\n",
       "    </tr>\n",
       "    <tr>\n",
       "      <th>5</th>\n",
       "      <td>148.748060</td>\n",
       "      <td>0.008824</td>\n",
       "      <td>340</td>\n",
       "      <td>102</td>\n",
       "    </tr>\n",
       "    <tr>\n",
       "      <th>6</th>\n",
       "      <td>198.028761</td>\n",
       "      <td>0.005882</td>\n",
       "      <td>340</td>\n",
       "      <td>117</td>\n",
       "    </tr>\n",
       "    <tr>\n",
       "      <th>7</th>\n",
       "      <td>262.881630</td>\n",
       "      <td>0.002941</td>\n",
       "      <td>340</td>\n",
       "      <td>114</td>\n",
       "    </tr>\n",
       "    <tr>\n",
       "      <th>8</th>\n",
       "      <td>362.722516</td>\n",
       "      <td>0.002941</td>\n",
       "      <td>340</td>\n",
       "      <td>130</td>\n",
       "    </tr>\n",
       "    <tr>\n",
       "      <th>9</th>\n",
       "      <td>656.911246</td>\n",
       "      <td>0.005882</td>\n",
       "      <td>340</td>\n",
       "      <td>138</td>\n",
       "    </tr>\n",
       "  </tbody>\n",
       "</table>\n",
       "</div>"
      ],
      "text/plain": [
       "   Average separation in bin  Merger fraction $f_m$  Galaxies in bin  \\\n",
       "0                   9.568890               0.373529              340   \n",
       "1                  25.258067               0.202941              340   \n",
       "2                  45.575311               0.070588              340   \n",
       "3                  72.115990               0.023529              340   \n",
       "4                 107.397560               0.014749              339   \n",
       "5                 148.748060               0.008824              340   \n",
       "6                 198.028761               0.005882              340   \n",
       "7                 262.881630               0.002941              340   \n",
       "8                 362.722516               0.002941              340   \n",
       "9                 656.911246               0.005882              340   \n",
       "\n",
       "   Groups in bin  \n",
       "0            107  \n",
       "1            104  \n",
       "2            102  \n",
       "3            106  \n",
       "4            113  \n",
       "5            102  \n",
       "6            117  \n",
       "7            114  \n",
       "8            130  \n",
       "9            138  "
      ]
     },
     "metadata": {},
     "output_type": "display_data"
    },
    {
     "data": {
      "image/png": "[encoded data removed]",
      "text/plain": [
       "<Figure size 720x504 with 1 Axes>"
      ]
     },
     "metadata": {
      "needs_background": "light"
     },
     "output_type": "display_data"
    }
   ],
   "source": [
    "# Create logarithmic bins of equal size without small groups\n",
    "separation_2d = n_equals_3_groups[\"Nearest_neighbour_separation_2d\"]\n",
    "equal_log_bins = pd.qcut(x=np.log10(separation_2d), q=10, labels=False, retbins=True, duplicates=\"drop\")[1]\n",
    "equal_log_bins = np.power(10, equal_log_bins)\n",
    "# equal_log_bins = np.round(equal_log_bins, 0)\n",
    "\n",
    "# Print the bins that have been calculated\n",
    "print(\"Bins: \" + str(equal_log_bins))\n",
    "\n",
    "\n",
    "# plt.figure(figsize=(12,8))\n",
    "# # Plot histogram of group size using logarithmic bins\n",
    "# plt.hist(separation_2d, bins=equal_log_bins, edgecolor=\"black\", histtype=\"stepfilled\")\n",
    "# plt.xscale(\"log\")\n",
    "# # plt.yscale(\"log\")\n",
    "# plt.ylim(bottom=0)\n",
    "# plt.xlabel(\"Size of group\", fontsize=12)\n",
    "# plt.ylabel(\"Number of galaxies\", fontsize=12)\n",
    "# plt.title(\"Number of galaxies in group using equal size logarithmic bins\", fontsize=12)\n",
    "# plt.show()\n",
    "\n",
    "\n",
    "# Define a function that given some data, will return the merger fraction against redshift\n",
    "def merger_fraction_separation_2d_binning(limited_data, separation_bins):\n",
    "    \"\"\"Takes data, picks out mergers and calculates the merger fraction using\n",
    "    the bins provided. Returns an array of merger fraction against group size,\n",
    "    the average group size of galaxies in bin for plotting and the number\n",
    "    of galaxies in each bin.\"\"\"\n",
    "    \n",
    "    # Resample table with only the data needed\n",
    "    limited_data = limited_data[[\"Nearest_neighbour_separation_2d\", \"Merger_classifications\", \"group_id_new\"]]\n",
    "    \n",
    "    groups_unique = limited_data.drop_duplicates(subset=[\"group_id_new\"], keep=\"first\")\n",
    "    \n",
    "    # Bin data by group size, with the bin sizes specified\n",
    "    allbinned, bin_edges = np.histogram(limited_data[\"Nearest_neighbour_separation_2d\"], bins=separation_bins)\n",
    "    groups_unique_binned, bin_edges = np.histogram(groups_unique[\"Nearest_neighbour_separation_2d\"], bins=separation_bins)\n",
    "    mergersbinned, bin_edges = np.histogram(limited_data[limited_data[\"Merger_classifications\"] > 0][\"Nearest_neighbour_separation_2d\"], bins=separation_bins)\n",
    "    \n",
    "    # Calculate the average group size in each bin for plotting data\n",
    "    bin_centres=[]\n",
    "    bin_edges[-1] += 1\n",
    "    for i in range(len(bin_edges) - 1):\n",
    "        bin_centres.append(limited_data[(limited_data[\"Nearest_neighbour_separation_2d\"] >= bin_edges[i]) & (limited_data[\"Nearest_neighbour_separation_2d\"] < bin_edges[i + 1])][\"Nearest_neighbour_separation_2d\"].mean())\n",
    "    \n",
    "    allbinned = allbinned.astype(float)\n",
    "    mergersbinned = mergersbinned.astype(float)\n",
    "    \n",
    "    # Find merger fraction\n",
    "    merger_fraction_group = mergersbinned / allbinned\n",
    "    \n",
    "    return merger_fraction_group, bin_centres, allbinned.astype(int), groups_unique_binned.astype(int)\n",
    "\n",
    "# Call function with all_data and calculated logarithmic bins\n",
    "merger_fraction_separation_2d, separation_2d_bin_centres, galaxies_in_bin, groups_in_bin = merger_fraction_separation_2d_binning(n_equals_3_groups, equal_log_bins)\n",
    "\n",
    "# Create dataframe of average group size, merger fraction and gaalxies in each bin and display it\n",
    "merger_fraction_separation_2d_info = list(zip(separation_2d_bin_centres, merger_fraction_separation_2d, galaxies_in_bin, groups_in_bin))\n",
    "merger_fraction_separation_2d_info_df = pd.DataFrame(merger_fraction_separation_2d_info, columns=[\"Average separation in bin\", \"Merger fraction $f_m$\", \"Galaxies in bin\", \"Groups in bin\"])\n",
    "display(merger_fraction_separation_2d_info_df)\n",
    "\n",
    "\n",
    "plt.figure(figsize=(10,7))\n",
    "plt.plot(separation_2d_bin_centres, merger_fraction_separation_2d, label=\"Data\")\n",
    "# plt.fill_between(group_size_bin_centres[1:], merger_fraction_group_size_bootstrapped_min[1:], merger_fraction_group_size_bootstrapped_max[1:], alpha=0.3)\n",
    "# plt.axhline(y=merger_fraction_groups[0], linestyle=(0, (5, 10)), c=\"red\", label=\"Field value\")\n",
    "# plt.xscale(\"log\")\n",
    "# plt.xlim(left=1)\n",
    "plt.ylim(bottom=0)\n",
    "plt.xlabel(\"2D separation, arcsec\", fontsize=12)\n",
    "plt.ylabel(\"Merger fraction\", fontsize=12)\n",
    "plt.title(\"Merger fraction against 2D separation for galaxies in $N=3$ groups\", fontsize=12)\n",
    "\n",
    "plt.show()"
   ]
  },
  {
   "cell_type": "markdown",
   "metadata": {},
   "source": [
    "## Merger fraction vs 3D separation\n",
    "\n",
    "We now calculate hwo the merger fraction changes with the 3D separation between galaxies in $N=3$ groups."
   ]
  },
  {
   "cell_type": "code",
   "execution_count": 56,
   "metadata": {
    "scrolled": false
   },
   "outputs": [
    {
     "name": "stdout",
     "output_type": "stream",
     "text": [
      "Bins: [4.52307158e-05 2.46740981e-02 1.84563810e-01 4.55636067e-01\n",
      " 7.08220160e-01 9.62791421e-01 1.29363626e+00 1.72162754e+00\n",
      " 2.33898705e+00 3.15177312e+00 1.24894408e+02]\n"
     ]
    },
    {
     "data": {
      "text/html": [
       "<div>\n",
       "<style scoped>\n",
       "    .dataframe tbody tr th:only-of-type {\n",
       "        vertical-align: middle;\n",
       "    }\n",
       "\n",
       "    .dataframe tbody tr th {\n",
       "        vertical-align: top;\n",
       "    }\n",
       "\n",
       "    .dataframe thead th {\n",
       "        text-align: right;\n",
       "    }\n",
       "</style>\n",
       "<table border=\"1\" class=\"dataframe\">\n",
       "  <thead>\n",
       "    <tr style=\"text-align: right;\">\n",
       "      <th></th>\n",
       "      <th>Average separation in bin</th>\n",
       "      <th>Merger fraction $f_m$</th>\n",
       "      <th>Galaxies in bin</th>\n",
       "      <th>Groups in bin</th>\n",
       "    </tr>\n",
       "  </thead>\n",
       "  <tbody>\n",
       "    <tr>\n",
       "      <th>0</th>\n",
       "      <td>0.011630</td>\n",
       "      <td>0.261765</td>\n",
       "      <td>340</td>\n",
       "      <td>104</td>\n",
       "    </tr>\n",
       "    <tr>\n",
       "      <th>1</th>\n",
       "      <td>0.069870</td>\n",
       "      <td>0.044118</td>\n",
       "      <td>340</td>\n",
       "      <td>99</td>\n",
       "    </tr>\n",
       "    <tr>\n",
       "      <th>2</th>\n",
       "      <td>0.317618</td>\n",
       "      <td>0.041176</td>\n",
       "      <td>340</td>\n",
       "      <td>120</td>\n",
       "    </tr>\n",
       "    <tr>\n",
       "      <th>3</th>\n",
       "      <td>0.586267</td>\n",
       "      <td>0.035294</td>\n",
       "      <td>340</td>\n",
       "      <td>120</td>\n",
       "    </tr>\n",
       "    <tr>\n",
       "      <th>4</th>\n",
       "      <td>0.821693</td>\n",
       "      <td>0.032448</td>\n",
       "      <td>339</td>\n",
       "      <td>110</td>\n",
       "    </tr>\n",
       "    <tr>\n",
       "      <th>5</th>\n",
       "      <td>1.119378</td>\n",
       "      <td>0.038235</td>\n",
       "      <td>340</td>\n",
       "      <td>115</td>\n",
       "    </tr>\n",
       "    <tr>\n",
       "      <th>6</th>\n",
       "      <td>1.493261</td>\n",
       "      <td>0.058997</td>\n",
       "      <td>339</td>\n",
       "      <td>114</td>\n",
       "    </tr>\n",
       "    <tr>\n",
       "      <th>7</th>\n",
       "      <td>1.990439</td>\n",
       "      <td>0.055718</td>\n",
       "      <td>341</td>\n",
       "      <td>115</td>\n",
       "    </tr>\n",
       "    <tr>\n",
       "      <th>8</th>\n",
       "      <td>2.706674</td>\n",
       "      <td>0.055882</td>\n",
       "      <td>340</td>\n",
       "      <td>116</td>\n",
       "    </tr>\n",
       "    <tr>\n",
       "      <th>9</th>\n",
       "      <td>7.140352</td>\n",
       "      <td>0.088235</td>\n",
       "      <td>340</td>\n",
       "      <td>120</td>\n",
       "    </tr>\n",
       "  </tbody>\n",
       "</table>\n",
       "</div>"
      ],
      "text/plain": [
       "   Average separation in bin  Merger fraction $f_m$  Galaxies in bin  \\\n",
       "0                   0.011630               0.261765              340   \n",
       "1                   0.069870               0.044118              340   \n",
       "2                   0.317618               0.041176              340   \n",
       "3                   0.586267               0.035294              340   \n",
       "4                   0.821693               0.032448              339   \n",
       "5                   1.119378               0.038235              340   \n",
       "6                   1.493261               0.058997              339   \n",
       "7                   1.990439               0.055718              341   \n",
       "8                   2.706674               0.055882              340   \n",
       "9                   7.140352               0.088235              340   \n",
       "\n",
       "   Groups in bin  \n",
       "0            104  \n",
       "1             99  \n",
       "2            120  \n",
       "3            120  \n",
       "4            110  \n",
       "5            115  \n",
       "6            114  \n",
       "7            115  \n",
       "8            116  \n",
       "9            120  "
      ]
     },
     "metadata": {},
     "output_type": "display_data"
    },
    {
     "data": {
      "image/png": "[encoded data removed]",
      "text/plain": [
       "<Figure size 720x504 with 1 Axes>"
      ]
     },
     "metadata": {
      "needs_background": "light"
     },
     "output_type": "display_data"
    }
   ],
   "source": [
    "# Create logarithmic bins of equal size without small groups\n",
    "separation_3d = n_equals_3_groups[\"Nearest_neighbour_separation_3d\"]\n",
    "equal_log_bins = pd.qcut(x=np.log10(separation_3d), q=10, labels=False, retbins=True, duplicates=\"drop\")[1]\n",
    "equal_log_bins = np.power(10, equal_log_bins)\n",
    "# equal_log_bins = np.round(equal_log_bins, 0)\n",
    "\n",
    "# Print the bins that have been calculated\n",
    "print(\"Bins: \" + str(equal_log_bins))\n",
    "\n",
    "\n",
    "# plt.figure(figsize=(12,8))\n",
    "# # Plot histogram of group size using logarithmic bins\n",
    "# plt.hist(separation_3d, bins=equal_log_bins, edgecolor=\"black\", histtype=\"stepfilled\")\n",
    "# plt.xscale(\"log\")\n",
    "# # plt.yscale(\"log\")\n",
    "# plt.ylim(bottom=0)\n",
    "# plt.xlabel(\"Size of group\", fontsize=12)\n",
    "# plt.ylabel(\"Number of galaxies\", fontsize=12)\n",
    "# plt.title(\"Number of galaxies in group using equal size logarithmic bins\", fontsize=12)\n",
    "# plt.show()\n",
    "\n",
    "\n",
    "# Define a function that given some data, will return the merger fraction against redshift\n",
    "def merger_fraction_separation_3d_binning(limited_data, separation_bins):\n",
    "    \"\"\"Takes data, picks out mergers and calculates the merger fraction using\n",
    "    the bins provided. Returns an array of merger fraction against group size,\n",
    "    the average group size of galaxies in bin for plotting and the number\n",
    "    of galaxies in each bin.\"\"\"\n",
    "    \n",
    "    # Resample table with only the data needed\n",
    "    limited_data = limited_data[[\"Nearest_neighbour_separation_3d\", \"Merger_classifications\", \"group_id_new\"]]\n",
    "    \n",
    "    groups_unique = limited_data.drop_duplicates(subset=[\"group_id_new\"], keep=\"first\")\n",
    "    \n",
    "    # Bin data by group size, with the bin sizes specified\n",
    "    allbinned, bin_edges = np.histogram(limited_data[\"Nearest_neighbour_separation_3d\"], bins=separation_bins)\n",
    "    groups_unique_binned, bin_edges = np.histogram(groups_unique[\"Nearest_neighbour_separation_3d\"], bins=separation_bins)\n",
    "    mergersbinned, bin_edges = np.histogram(limited_data[limited_data[\"Merger_classifications\"] > 0][\"Nearest_neighbour_separation_3d\"], bins=separation_bins)\n",
    "    \n",
    "    # Calculate the average group size in each bin for plotting data\n",
    "    bin_centres=[]\n",
    "    bin_edges[-1] += 1\n",
    "    for i in range(len(bin_edges) - 1):\n",
    "        bin_centres.append(limited_data[(limited_data[\"Nearest_neighbour_separation_3d\"] >= bin_edges[i]) & (limited_data[\"Nearest_neighbour_separation_3d\"] < bin_edges[i + 1])][\"Nearest_neighbour_separation_3d\"].mean())\n",
    "    \n",
    "    allbinned = allbinned.astype(float)\n",
    "    mergersbinned = mergersbinned.astype(float)\n",
    "    \n",
    "    # Find merger fraction\n",
    "    merger_fraction_group = mergersbinned / allbinned\n",
    "    \n",
    "    return merger_fraction_group, bin_centres, allbinned.astype(int), groups_unique_binned.astype(int)\n",
    "\n",
    "# Call function with all_data and calculated logarithmic bins\n",
    "merger_fraction_separation_3d, separation_3d_bin_centres, galaxies_in_bin, groups_in_bin = merger_fraction_separation_3d_binning(n_equals_3_groups, equal_log_bins)\n",
    "\n",
    "# Create dataframe of average group size, merger fraction and gaalxies in each bin and display it\n",
    "merger_fraction_separation_3d_info = list(zip(separation_3d_bin_centres, merger_fraction_separation_3d, galaxies_in_bin, groups_in_bin))\n",
    "merger_fraction_separation_3d_info_df = pd.DataFrame(merger_fraction_separation_3d_info, columns=[\"Average separation in bin\", \"Merger fraction $f_m$\", \"Galaxies in bin\", \"Groups in bin\"])\n",
    "display(merger_fraction_separation_3d_info_df)\n",
    "\n",
    "\n",
    "plt.figure(figsize=(10,7))\n",
    "plt.plot(separation_3d_bin_centres, merger_fraction_separation_3d, label=\"Data\")\n",
    "# plt.fill_between(group_size_bin_centres[1:], merger_fraction_group_size_bootstrapped_min[1:], merger_fraction_group_size_bootstrapped_max[1:], alpha=0.3)\n",
    "# plt.axhline(y=merger_fraction_groups[0], linestyle=(0, (5, 10)), c=\"red\", label=\"Field value\")\n",
    "plt.xscale(\"log\")\n",
    "# plt.xlim(left=1)\n",
    "plt.ylim(bottom=0)\n",
    "plt.xlabel(\"3D separation, Mpc\", fontsize=12)\n",
    "plt.ylabel(\"Merger fraction\", fontsize=12)\n",
    "plt.title(\"Merger fraction against 3D separation of nearest 2D neighbours for galaxies in $N=3$ groups\", fontsize=12)\n",
    "\n",
    "plt.show()"
   ]
  }
 ],
 "metadata": {
  "kernelspec": {
   "display_name": "Python 3",
   "language": "python",
   "name": "python3"
  },
  "language_info": {
   "codemirror_mode": {
    "name": "ipython",
    "version": 3
   },
   "file_extension": ".py",
   "mimetype": "text/x-python",
   "name": "python",
   "nbconvert_exporter": "python",
   "pygments_lexer": "ipython3",
   "version": "3.7.6"
  },
  "widgets": {
   "application/vnd.jupyter.widget-state+json": {
    "state": {},
    "version_major": 2,
    "version_minor": 0
   }
  }
 },
 "nbformat": 4,
 "nbformat_minor": 2
}
