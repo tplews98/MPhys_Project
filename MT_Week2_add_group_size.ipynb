{
 "cells": [
  {
   "cell_type": "markdown",
   "metadata": {},
   "source": [
    "# Grouping galaxies by their group and creating a group size column\n",
    "\n",
    "In this document we import galaxy data, which have been matched by group using TOPCAT, and create a column for the size of the group."
   ]
  },
  {
   "cell_type": "markdown",
   "metadata": {},
   "source": [
    "First we import the data set which we which to group into sizes. We display the head to get an idea of what the data looks like."
   ]
  },
  {
   "cell_type": "code",
   "execution_count": 175,
   "metadata": {},
   "outputs": [
    {
     "data": {
      "text/html": [
       "<i>Table length=5</i>\n",
       "<table id=\"table2499046980464\" class=\"table-striped table-bordered table-condensed\">\n",
       "<thead><tr><th>galaxy ID_1</th><th>NYU-VAGC ID object ID</th><th>ra_galaxy</th><th>dec_galaxy</th><th>z_galaxy</th><th>apparent magnitude r_band</th><th>magnitude limit r_band</th><th>completeness</th><th>col9 Petro</th><th>col10 Petro</th><th>col11 Model</th><th>col12 Model</th><th>redshift source type</th><th>galaxy id_2</th><th>galaxy id in NYU_VAGC</th><th>group id_1</th><th>brightest galaxy</th><th>most massive galaxy</th><th>group id_2</th><th>member galaxy id in NYU_VAGC</th><th>member galaxy id in SDSS7</th><th>group id</th><th>RA_group</th><th>dec_group</th><th>z_group</th><th>group L_-19.5 log L_odoth2</th><th>group stellar mass</th><th>halo mass1</th><th>halo mass2</th><th>mean separation brighter</th><th>mean separation massive</th><th>f_edge</th><th>ID1</th><th>ID2</th><th>GroupID_topcat</th><th>GroupSize_topcat</th></tr></thead>\n",
       "<thead><tr><th>int32</th><th>int32</th><th>float64</th><th>float64</th><th>float64</th><th>float64</th><th>float64</th><th>float64</th><th>float64</th><th>float64</th><th>float64</th><th>float64</th><th>int16</th><th>int32</th><th>int32</th><th>int32</th><th>int16</th><th>int16</th><th>int32</th><th>int32</th><th>int32</th><th>int32</th><th>float64</th><th>float64</th><th>float64</th><th>float32</th><th>float32</th><th>float32</th><th>float32</th><th>float64</th><th>float64</th><th>float32</th><th>int16</th><th>int16</th><th>int32</th><th>int32</th></tr></thead>\n",
       "<tr><td>1</td><td>750</td><td>38.049132677</td><td>0.224026085</td><td>0.0540216</td><td>15.9390697</td><td>17.6200008</td><td>0.994186</td><td>-20.207098</td><td>0.906209</td><td>-20.075325</td><td>0.934289</td><td>1</td><td>1</td><td>750</td><td>51109</td><td>1</td><td>1</td><td>51109</td><td>750</td><td>1</td><td>51109</td><td>38.04913268</td><td>0.22402609</td><td>0.0540216</td><td>9.9894</td><td>10.4026</td><td>11.9576</td><td>12.0665</td><td>6.0747</td><td>6.5564</td><td>1.0</td><td>1</td><td>1</td><td>-2147483648</td><td>-2147483648</td></tr>\n",
       "<tr><td>2</td><td>751</td><td>38.352526239</td><td>0.212490935</td><td>0.0538176</td><td>16.786047</td><td>17.6200008</td><td>0.9878049</td><td>-19.3635311</td><td>0.8207065</td><td>-19.3689442</td><td>0.8517601</td><td>1</td><td>2</td><td>751</td><td>17854</td><td>2</td><td>2</td><td>17854</td><td>751</td><td>2</td><td>17854</td><td>38.36153801</td><td>0.21099565</td><td>0.05400701</td><td>10.2958</td><td>10.6063</td><td>12.4252</td><td>12.3387</td><td>8.47</td><td>7.9558</td><td>1.0</td><td>1</td><td>1</td><td>1</td><td>2</td></tr>\n",
       "<tr><td>3</td><td>752</td><td>38.363597531</td><td>0.210653925</td><td>0.0540503</td><td>15.0902996</td><td>17.6200008</td><td>0.9878049</td><td>-20.9661407</td><td>0.7585465</td><td>-20.9080181</td><td>0.8726098</td><td>1</td><td>3</td><td>752</td><td>17854</td><td>1</td><td>1</td><td>17854</td><td>752</td><td>3</td><td>17854</td><td>38.36153801</td><td>0.21099565</td><td>0.05400701</td><td>10.2958</td><td>10.6063</td><td>12.4252</td><td>12.3387</td><td>8.47</td><td>7.9558</td><td>1.0</td><td>1</td><td>1</td><td>1</td><td>2</td></tr>\n",
       "<tr><td>4</td><td>994</td><td>54.450340819</td><td>0.572606244</td><td>0.1385037</td><td>17.6040344</td><td>17.6200008</td><td>0.9183673</td><td>-20.6810684</td><td>0.8804656</td><td>-20.6609764</td><td>0.8857337</td><td>1</td><td>4</td><td>994</td><td>51110</td><td>1</td><td>1</td><td>51110</td><td>994</td><td>4</td><td>51110</td><td>54.45034082</td><td>0.57260624</td><td>0.1385037</td><td>10.2376</td><td>10.6282</td><td>12.3298</td><td>12.3713</td><td>7.9058</td><td>8.1456</td><td>1.0</td><td>1</td><td>-1</td><td>-2147483648</td><td>-2147483648</td></tr>\n",
       "<tr><td>5</td><td>1010</td><td>54.53488061</td><td>0.578614767</td><td>0.1289553</td><td>17.4154015</td><td>17.6200008</td><td>0.9183673</td><td>-20.7128315</td><td>0.9181613</td><td>-20.6985416</td><td>0.9755992</td><td>1</td><td>5</td><td>1010</td><td>51111</td><td>1</td><td>1</td><td>51111</td><td>1010</td><td>5</td><td>51111</td><td>54.53488061</td><td>0.57861477</td><td>0.1289553</td><td>10.2477</td><td>10.6925</td><td>12.3455</td><td>12.4673</td><td>7.9948</td><td>8.7336</td><td>1.0</td><td>1</td><td>-1</td><td>-2147483648</td><td>-2147483648</td></tr>\n",
       "</table>"
      ],
      "text/plain": [
       "<Table length=5>\n",
       "galaxy ID_1 NYU-VAGC ID object ID ... GroupID_topcat GroupSize_topcat\n",
       "   int32            int32         ...     int32           int32      \n",
       "----------- --------------------- ... -------------- ----------------\n",
       "          1                   750 ...    -2147483648      -2147483648\n",
       "          2                   751 ...              1                2\n",
       "          3                   752 ...              1                2\n",
       "          4                   994 ...    -2147483648      -2147483648\n",
       "          5                  1010 ...    -2147483648      -2147483648"
      ]
     },
     "metadata": {},
     "output_type": "display_data"
    }
   ],
   "source": [
    "# from astropy.table import Table\n",
    "from astropy.table import Table\n",
    "from astropy.io import fits\n",
    "import pandas as pd\n",
    "import numpy as np\n",
    "\n",
    "# Import .fits data as a table\n",
    "filename = \"Data\\Group Data (Yang)\\galaxy_group_data.fits\" # All galaxies in group data set\n",
    "# filename = \"Data\\GZ2_main_with_group_data_1_arcsec.fits\" # GZ2 galaxies that have been matched to group data set\n",
    "\n",
    "with fits.open(filename) as data:\n",
    "    group_data = Table(data[1].data)\n",
    "\n",
    "display(group_data[0:5])"
   ]
  },
  {
   "cell_type": "markdown",
   "metadata": {},
   "source": [
    "Next we create a pandas dataframe from the astropy table, in order to use the pandas groupby method. We group the data by \"group id\", and create a new column that gives the size of the group.\n",
    "\n",
    "We display the head again to see the new column."
   ]
  },
  {
   "cell_type": "code",
   "execution_count": 176,
   "metadata": {},
   "outputs": [
    {
     "data": {
      "text/html": [
       "<i>Table length=5</i>\n",
       "<table id=\"table2497717761080\" class=\"table-striped table-bordered table-condensed\">\n",
       "<thead><tr><th>galaxy ID_1</th><th>NYU-VAGC ID object ID</th><th>ra_galaxy</th><th>dec_galaxy</th><th>z_galaxy</th><th>apparent magnitude r_band</th><th>magnitude limit r_band</th><th>completeness</th><th>col9 Petro</th><th>col10 Petro</th><th>col11 Model</th><th>col12 Model</th><th>redshift source type</th><th>galaxy id_2</th><th>galaxy id in NYU_VAGC</th><th>group id_1</th><th>brightest galaxy</th><th>most massive galaxy</th><th>group id_2</th><th>member galaxy id in NYU_VAGC</th><th>member galaxy id in SDSS7</th><th>group id</th><th>RA_group</th><th>dec_group</th><th>z_group</th><th>group L_-19.5 log L_odoth2</th><th>group stellar mass</th><th>halo mass1</th><th>halo mass2</th><th>mean separation brighter</th><th>mean separation massive</th><th>f_edge</th><th>ID1</th><th>ID2</th><th>GroupID_topcat</th><th>GroupSize_topcat</th><th>group_size</th></tr></thead>\n",
       "<thead><tr><th>int32</th><th>int32</th><th>float64</th><th>float64</th><th>float64</th><th>float64</th><th>float64</th><th>float64</th><th>float64</th><th>float64</th><th>float64</th><th>float64</th><th>int16</th><th>int32</th><th>int32</th><th>int32</th><th>int16</th><th>int16</th><th>int32</th><th>int32</th><th>int32</th><th>int32</th><th>float64</th><th>float64</th><th>float64</th><th>float32</th><th>float32</th><th>float32</th><th>float32</th><th>float64</th><th>float64</th><th>float32</th><th>int16</th><th>int16</th><th>int32</th><th>int32</th><th>int64</th></tr></thead>\n",
       "<tr><td>1</td><td>750</td><td>38.049132677</td><td>0.224026085</td><td>0.0540216</td><td>15.9390697</td><td>17.6200008</td><td>0.994186</td><td>-20.207098</td><td>0.906209</td><td>-20.075325</td><td>0.934289</td><td>1</td><td>1</td><td>750</td><td>51109</td><td>1</td><td>1</td><td>51109</td><td>750</td><td>1</td><td>51109</td><td>38.04913268</td><td>0.22402609</td><td>0.0540216</td><td>9.9894</td><td>10.4026</td><td>11.9576</td><td>12.0665</td><td>6.0747</td><td>6.5564</td><td>1.0</td><td>1</td><td>1</td><td>-2147483648</td><td>-2147483648</td><td>1</td></tr>\n",
       "<tr><td>2</td><td>751</td><td>38.352526239</td><td>0.212490935</td><td>0.0538176</td><td>16.786047</td><td>17.6200008</td><td>0.9878049</td><td>-19.3635311</td><td>0.8207065</td><td>-19.3689442</td><td>0.8517601</td><td>1</td><td>2</td><td>751</td><td>17854</td><td>2</td><td>2</td><td>17854</td><td>751</td><td>2</td><td>17854</td><td>38.36153801</td><td>0.21099565</td><td>0.05400701</td><td>10.2958</td><td>10.6063</td><td>12.4252</td><td>12.3387</td><td>8.47</td><td>7.9558</td><td>1.0</td><td>1</td><td>1</td><td>1</td><td>2</td><td>2</td></tr>\n",
       "<tr><td>3</td><td>752</td><td>38.363597531</td><td>0.210653925</td><td>0.0540503</td><td>15.0902996</td><td>17.6200008</td><td>0.9878049</td><td>-20.9661407</td><td>0.7585465</td><td>-20.9080181</td><td>0.8726098</td><td>1</td><td>3</td><td>752</td><td>17854</td><td>1</td><td>1</td><td>17854</td><td>752</td><td>3</td><td>17854</td><td>38.36153801</td><td>0.21099565</td><td>0.05400701</td><td>10.2958</td><td>10.6063</td><td>12.4252</td><td>12.3387</td><td>8.47</td><td>7.9558</td><td>1.0</td><td>1</td><td>1</td><td>1</td><td>2</td><td>2</td></tr>\n",
       "<tr><td>4</td><td>994</td><td>54.450340819</td><td>0.572606244</td><td>0.1385037</td><td>17.6040344</td><td>17.6200008</td><td>0.9183673</td><td>-20.6810684</td><td>0.8804656</td><td>-20.6609764</td><td>0.8857337</td><td>1</td><td>4</td><td>994</td><td>51110</td><td>1</td><td>1</td><td>51110</td><td>994</td><td>4</td><td>51110</td><td>54.45034082</td><td>0.57260624</td><td>0.1385037</td><td>10.2376</td><td>10.6282</td><td>12.3298</td><td>12.3713</td><td>7.9058</td><td>8.1456</td><td>1.0</td><td>1</td><td>-1</td><td>-2147483648</td><td>-2147483648</td><td>1</td></tr>\n",
       "<tr><td>5</td><td>1010</td><td>54.53488061</td><td>0.578614767</td><td>0.1289553</td><td>17.4154015</td><td>17.6200008</td><td>0.9183673</td><td>-20.7128315</td><td>0.9181613</td><td>-20.6985416</td><td>0.9755992</td><td>1</td><td>5</td><td>1010</td><td>51111</td><td>1</td><td>1</td><td>51111</td><td>1010</td><td>5</td><td>51111</td><td>54.53488061</td><td>0.57861477</td><td>0.1289553</td><td>10.2477</td><td>10.6925</td><td>12.3455</td><td>12.4673</td><td>7.9948</td><td>8.7336</td><td>1.0</td><td>1</td><td>-1</td><td>-2147483648</td><td>-2147483648</td><td>1</td></tr>\n",
       "</table>"
      ],
      "text/plain": [
       "<Table length=5>\n",
       "galaxy ID_1 NYU-VAGC ID object ID  ra_galaxy   ... GroupSize_topcat group_size\n",
       "   int32            int32           float64    ...      int32         int64   \n",
       "----------- --------------------- ------------ ... ---------------- ----------\n",
       "          1                   750 38.049132677 ...      -2147483648          1\n",
       "          2                   751 38.352526239 ...                2          2\n",
       "          3                   752 38.363597531 ...                2          2\n",
       "          4                   994 54.450340819 ...      -2147483648          1\n",
       "          5                  1010  54.53488061 ...      -2147483648          1"
      ]
     },
     "execution_count": 176,
     "metadata": {},
     "output_type": "execute_result"
    }
   ],
   "source": [
    "group_data_pandas = group_data.to_pandas()\n",
    "group_data_pandas[\"group_size\"] = group_data_pandas.groupby(\"group id_1\")[\"group id_1\"].transform(\"size\")\n",
    "\n",
    "group_data = Table.from_pandas(group_data_pandas)\n",
    "group_data[0:5]"
   ]
  },
  {
   "cell_type": "markdown",
   "metadata": {},
   "source": [
    "For interest, we plot a quick histogram of group size."
   ]
  },
  {
   "cell_type": "code",
   "execution_count": 182,
   "metadata": {},
   "outputs": [
    {
     "data": {
      "image/png": "[encoded data removed]",
      "text/plain": [
       "<Figure size 432x288 with 1 Axes>"
      ]
     },
     "metadata": {
      "needs_background": "light"
     },
     "output_type": "display_data"
    }
   ],
   "source": [
    "plt.hist(group_data[\"group_size\"], bins=20)\n",
    "plt.yscale(\"log\")\n",
    "plt.xlabel(\"Size of group\")\n",
    "plt.ylabel(\"Frequency\")\n",
    "plt.title(\"Histogram of the number of galaxies in each group\")\n",
    "plt.show()"
   ]
  },
  {
   "cell_type": "markdown",
   "metadata": {},
   "source": [
    "Now we convert the pandas datafram back to an astropy table, as we want to save the data as a .fits file.\n",
    "<br>\n",
    "We then save the data."
   ]
  },
  {
   "cell_type": "code",
   "execution_count": 185,
   "metadata": {},
   "outputs": [],
   "source": [
    "group_data = Table.from_pandas(group_data_pandas)\n",
    "# group_data.write(\"Data\\galaxy_group_data_with_size.fits\", format=\"fits\")"
   ]
  }
 ],
 "metadata": {
  "kernelspec": {
   "display_name": "Python 3",
   "language": "python",
   "name": "python3"
  },
  "language_info": {
   "codemirror_mode": {
    "name": "ipython",
    "version": 3
   },
   "file_extension": ".py",
   "mimetype": "text/x-python",
   "name": "python",
   "nbconvert_exporter": "python",
   "pygments_lexer": "ipython3",
   "version": "3.7.3"
  }
 },
 "nbformat": 4,
 "nbformat_minor": 2
}
