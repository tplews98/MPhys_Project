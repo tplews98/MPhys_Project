{
 "cells": [
  {
   "cell_type": "markdown",
   "metadata": {},
   "source": [
    "# Grouping galaxies by their group and creating a group size column\n",
    "\n",
    "In this document we import galaxy data, which have been matched by group using TOPCAT, and create a column for the size of the group."
   ]
  },
  {
   "cell_type": "markdown",
   "metadata": {},
   "source": [
    "First we import the data set which we which to group into sizes. We display the head to get an idea of what the data looks like."
   ]
  },
  {
   "cell_type": "code",
   "execution_count": 1,
   "metadata": {},
   "outputs": [
    {
     "data": {
      "text/html": [
       "<i>Table length=5</i>\n",
       "<table id=\"table2728510987176\" class=\"table-striped table-bordered table-condensed\">\n",
       "<thead><tr><th>galaxy ID_1</th><th>NYU-VAGC ID object ID</th><th>ra_galaxy</th><th>dec_galaxy</th><th>z_galaxy</th><th>apparent magnitude r_band</th><th>magnitude limit r_band</th><th>completeness</th><th>col9 Petro</th><th>col10 Petro</th><th>col11 Model</th><th>col12 Model</th><th>redshift source type</th><th>galaxy id_2</th><th>galaxy id in NYU_VAGC</th><th>group id_1</th><th>brightest galaxy</th><th>most massive galaxy</th><th>group id_2</th><th>member galaxy id in NYU_VAGC</th><th>member galaxy id in SDSS7</th><th>group id</th><th>RA_group</th><th>dec_group</th><th>z_group</th><th>group L_-19.5 log L_odoth2</th><th>group stellar mass</th><th>halo mass1</th><th>halo mass2</th><th>mean separation brighter</th><th>mean separation massive</th><th>f_edge</th><th>ID1</th><th>ID2</th><th>GroupID_topcat</th><th>GroupSize_topcat</th></tr></thead>\n",
       "<thead><tr><th>int32</th><th>int32</th><th>float64</th><th>float64</th><th>float64</th><th>float64</th><th>float64</th><th>float64</th><th>float64</th><th>float64</th><th>float64</th><th>float64</th><th>int16</th><th>int32</th><th>int32</th><th>int32</th><th>int16</th><th>int16</th><th>int32</th><th>int32</th><th>int32</th><th>int32</th><th>float64</th><th>float64</th><th>float64</th><th>float32</th><th>float32</th><th>float32</th><th>float32</th><th>float64</th><th>float64</th><th>float32</th><th>int16</th><th>int16</th><th>int32</th><th>int32</th></tr></thead>\n",
       "<tr><td>1</td><td>750</td><td>38.049132677</td><td>0.224026085</td><td>0.0540216</td><td>15.9390697</td><td>17.6200008</td><td>0.994186</td><td>-20.207098</td><td>0.906209</td><td>-20.075325</td><td>0.934289</td><td>1</td><td>1</td><td>750</td><td>67926</td><td>1</td><td>1</td><td>67926</td><td>750</td><td>1</td><td>67926</td><td>38.04913268</td><td>0.22402609</td><td>0.0540216</td><td>9.9868</td><td>10.4001</td><td>11.9938</td><td>12.0956</td><td>6.2305</td><td>6.6916</td><td>1.0</td><td>1</td><td>1</td><td>-2147483648</td><td>-2147483648</td></tr>\n",
       "<tr><td>2</td><td>751</td><td>38.352526239</td><td>0.212490935</td><td>0.0538176</td><td>16.786047</td><td>17.6200008</td><td>0.9878049</td><td>-19.3635311</td><td>0.8207065</td><td>-19.3689442</td><td>0.8517601</td><td>1</td><td>2</td><td>751</td><td>23485</td><td>2</td><td>2</td><td>23485</td><td>751</td><td>2</td><td>23485</td><td>38.36153801</td><td>0.21099565</td><td>0.05400701</td><td>10.2905</td><td>10.601</td><td>12.4622</td><td>12.3665</td><td>8.7007</td><td>8.1175</td><td>1.0</td><td>1</td><td>1</td><td>1</td><td>2</td></tr>\n",
       "<tr><td>3</td><td>752</td><td>38.363597531</td><td>0.210653925</td><td>0.0540503</td><td>15.0902996</td><td>17.6200008</td><td>0.9878049</td><td>-20.9661407</td><td>0.7585465</td><td>-20.9080181</td><td>0.8726098</td><td>1</td><td>3</td><td>752</td><td>23485</td><td>1</td><td>1</td><td>23485</td><td>752</td><td>3</td><td>23485</td><td>38.36153801</td><td>0.21099565</td><td>0.05400701</td><td>10.2905</td><td>10.601</td><td>12.4622</td><td>12.3665</td><td>8.7007</td><td>8.1175</td><td>1.0</td><td>1</td><td>1</td><td>1</td><td>2</td></tr>\n",
       "<tr><td>4</td><td>994</td><td>54.450340819</td><td>0.572606244</td><td>0.1385037</td><td>17.6040344</td><td>17.6200008</td><td>0.9183673</td><td>-20.6810684</td><td>0.8804656</td><td>-20.6609764</td><td>0.8857337</td><td>1</td><td>4</td><td>994</td><td>67927</td><td>1</td><td>1</td><td>67927</td><td>994</td><td>4</td><td>67927</td><td>54.45034082</td><td>0.57260624</td><td>0.1385037</td><td>10.1958</td><td>10.5868</td><td>12.3102</td><td>12.346</td><td>7.7948</td><td>7.9976</td><td>1.0</td><td>-1</td><td>-1</td><td>-2147483648</td><td>-2147483648</td></tr>\n",
       "<tr><td>5</td><td>1010</td><td>54.53488061</td><td>0.578614767</td><td>0.1289553</td><td>17.4154015</td><td>17.6200008</td><td>0.9183673</td><td>-20.7128315</td><td>0.9181613</td><td>-20.6985416</td><td>0.9755992</td><td>1</td><td>5</td><td>1010</td><td>67928</td><td>1</td><td>1</td><td>67928</td><td>1010</td><td>5</td><td>67928</td><td>54.53488061</td><td>0.57861477</td><td>0.1289553</td><td>10.2077</td><td>10.6528</td><td>12.3289</td><td>12.4436</td><td>7.9008</td><td>8.5825</td><td>1.0</td><td>1</td><td>-1</td><td>-2147483648</td><td>-2147483648</td></tr>\n",
       "</table>"
      ],
      "text/plain": [
       "<Table length=5>\n",
       "galaxy ID_1 NYU-VAGC ID object ID ... GroupID_topcat GroupSize_topcat\n",
       "   int32            int32         ...     int32           int32      \n",
       "----------- --------------------- ... -------------- ----------------\n",
       "          1                   750 ...    -2147483648      -2147483648\n",
       "          2                   751 ...              1                2\n",
       "          3                   752 ...              1                2\n",
       "          4                   994 ...    -2147483648      -2147483648\n",
       "          5                  1010 ...    -2147483648      -2147483648"
      ]
     },
     "metadata": {},
     "output_type": "display_data"
    }
   ],
   "source": [
    "# from astropy.table import Table\n",
    "from astropy.table import Table\n",
    "from astropy.io import fits\n",
    "import matplotlib.pyplot as plt\n",
    "import pandas as pd\n",
    "import numpy as np\n",
    "\n",
    "# Import .fits data as a table\n",
    "filename = \"Data\\Group Data (Yang)\\galaxy_group_data_C.fits\" # All galaxies in group data set\n",
    "# filename = \"Data\\GZ2_main_with_group_data_half_arcsec.fits\" # GZ2 galaxies that have been matched to group data set\n",
    "\n",
    "with fits.open(filename) as data:\n",
    "    group_data = Table(data[1].data)\n",
    "\n",
    "display(group_data[0:5])"
   ]
  },
  {
   "cell_type": "markdown",
   "metadata": {},
   "source": [
    "Next we create a pandas dataframe from the astropy table, in order to use the pandas groupby method. We group the data by \"group id\", and create a new column that gives the size of the group.\n",
    "\n",
    "We display the head again to see the new column."
   ]
  },
  {
   "cell_type": "code",
   "execution_count": 2,
   "metadata": {},
   "outputs": [
    {
     "data": {
      "text/html": [
       "<i>Table length=5</i>\n",
       "<table id=\"table2728545434256\" class=\"table-striped table-bordered table-condensed\">\n",
       "<thead><tr><th>galaxy ID_1</th><th>NYU-VAGC ID object ID</th><th>ra_galaxy</th><th>dec_galaxy</th><th>z_galaxy</th><th>apparent magnitude r_band</th><th>magnitude limit r_band</th><th>completeness</th><th>col9 Petro</th><th>col10 Petro</th><th>col11 Model</th><th>col12 Model</th><th>redshift source type</th><th>galaxy id_2</th><th>galaxy id in NYU_VAGC</th><th>group id_1</th><th>brightest galaxy</th><th>most massive galaxy</th><th>group id_2</th><th>member galaxy id in NYU_VAGC</th><th>member galaxy id in SDSS7</th><th>group id</th><th>RA_group</th><th>dec_group</th><th>z_group</th><th>group L_-19.5 log L_odoth2</th><th>group stellar mass</th><th>halo mass1</th><th>halo mass2</th><th>mean separation brighter</th><th>mean separation massive</th><th>f_edge</th><th>ID1</th><th>ID2</th><th>GroupID_topcat</th><th>GroupSize_topcat</th><th>group_size</th></tr></thead>\n",
       "<thead><tr><th>int32</th><th>int32</th><th>float64</th><th>float64</th><th>float64</th><th>float64</th><th>float64</th><th>float64</th><th>float64</th><th>float64</th><th>float64</th><th>float64</th><th>int16</th><th>int32</th><th>int32</th><th>int32</th><th>int16</th><th>int16</th><th>int32</th><th>int32</th><th>int32</th><th>int32</th><th>float64</th><th>float64</th><th>float64</th><th>float32</th><th>float32</th><th>float32</th><th>float32</th><th>float64</th><th>float64</th><th>float32</th><th>int16</th><th>int16</th><th>int32</th><th>int32</th><th>int64</th></tr></thead>\n",
       "<tr><td>1</td><td>750</td><td>38.049132677</td><td>0.224026085</td><td>0.0540216</td><td>15.9390697</td><td>17.6200008</td><td>0.994186</td><td>-20.207098</td><td>0.906209</td><td>-20.075325</td><td>0.934289</td><td>1</td><td>1</td><td>750</td><td>67926</td><td>1</td><td>1</td><td>67926</td><td>750</td><td>1</td><td>67926</td><td>38.04913268</td><td>0.22402609</td><td>0.0540216</td><td>9.9868</td><td>10.4001</td><td>11.9938</td><td>12.0956</td><td>6.2305</td><td>6.6916</td><td>1.0</td><td>1</td><td>1</td><td>-2147483648</td><td>-2147483648</td><td>1</td></tr>\n",
       "<tr><td>2</td><td>751</td><td>38.352526239</td><td>0.212490935</td><td>0.0538176</td><td>16.786047</td><td>17.6200008</td><td>0.9878049</td><td>-19.3635311</td><td>0.8207065</td><td>-19.3689442</td><td>0.8517601</td><td>1</td><td>2</td><td>751</td><td>23485</td><td>2</td><td>2</td><td>23485</td><td>751</td><td>2</td><td>23485</td><td>38.36153801</td><td>0.21099565</td><td>0.05400701</td><td>10.2905</td><td>10.601</td><td>12.4622</td><td>12.3665</td><td>8.7007</td><td>8.1175</td><td>1.0</td><td>1</td><td>1</td><td>1</td><td>2</td><td>2</td></tr>\n",
       "<tr><td>3</td><td>752</td><td>38.363597531</td><td>0.210653925</td><td>0.0540503</td><td>15.0902996</td><td>17.6200008</td><td>0.9878049</td><td>-20.9661407</td><td>0.7585465</td><td>-20.9080181</td><td>0.8726098</td><td>1</td><td>3</td><td>752</td><td>23485</td><td>1</td><td>1</td><td>23485</td><td>752</td><td>3</td><td>23485</td><td>38.36153801</td><td>0.21099565</td><td>0.05400701</td><td>10.2905</td><td>10.601</td><td>12.4622</td><td>12.3665</td><td>8.7007</td><td>8.1175</td><td>1.0</td><td>1</td><td>1</td><td>1</td><td>2</td><td>2</td></tr>\n",
       "<tr><td>4</td><td>994</td><td>54.450340819</td><td>0.572606244</td><td>0.1385037</td><td>17.6040344</td><td>17.6200008</td><td>0.9183673</td><td>-20.6810684</td><td>0.8804656</td><td>-20.6609764</td><td>0.8857337</td><td>1</td><td>4</td><td>994</td><td>67927</td><td>1</td><td>1</td><td>67927</td><td>994</td><td>4</td><td>67927</td><td>54.45034082</td><td>0.57260624</td><td>0.1385037</td><td>10.1958</td><td>10.5868</td><td>12.3102</td><td>12.346</td><td>7.7948</td><td>7.9976</td><td>1.0</td><td>-1</td><td>-1</td><td>-2147483648</td><td>-2147483648</td><td>1</td></tr>\n",
       "<tr><td>5</td><td>1010</td><td>54.53488061</td><td>0.578614767</td><td>0.1289553</td><td>17.4154015</td><td>17.6200008</td><td>0.9183673</td><td>-20.7128315</td><td>0.9181613</td><td>-20.6985416</td><td>0.9755992</td><td>1</td><td>5</td><td>1010</td><td>67928</td><td>1</td><td>1</td><td>67928</td><td>1010</td><td>5</td><td>67928</td><td>54.53488061</td><td>0.57861477</td><td>0.1289553</td><td>10.2077</td><td>10.6528</td><td>12.3289</td><td>12.4436</td><td>7.9008</td><td>8.5825</td><td>1.0</td><td>1</td><td>-1</td><td>-2147483648</td><td>-2147483648</td><td>1</td></tr>\n",
       "</table>"
      ],
      "text/plain": [
       "<Table length=5>\n",
       "galaxy ID_1 NYU-VAGC ID object ID  ra_galaxy   ... GroupSize_topcat group_size\n",
       "   int32            int32           float64    ...      int32         int64   \n",
       "----------- --------------------- ------------ ... ---------------- ----------\n",
       "          1                   750 38.049132677 ...      -2147483648          1\n",
       "          2                   751 38.352526239 ...                2          2\n",
       "          3                   752 38.363597531 ...                2          2\n",
       "          4                   994 54.450340819 ...      -2147483648          1\n",
       "          5                  1010  54.53488061 ...      -2147483648          1"
      ]
     },
     "execution_count": 2,
     "metadata": {},
     "output_type": "execute_result"
    }
   ],
   "source": [
    "group_data_pandas = group_data.to_pandas()\n",
    "group_data_pandas[\"group_size\"] = group_data_pandas.groupby(\"group id_1\")[\"group id_1\"].transform(\"size\")\n",
    "\n",
    "group_data = Table.from_pandas(group_data_pandas)\n",
    "group_data[0:5]"
   ]
  },
  {
   "cell_type": "markdown",
   "metadata": {},
   "source": [
    "The group size column created when merging the group data tables in TOPCAT has null values of -2147483648 when the group size is 1. We replace these values with 1 here as, they should be. Then we check that the two group size columns are equal."
   ]
  },
  {
   "cell_type": "code",
   "execution_count": 3,
   "metadata": {},
   "outputs": [
    {
     "data": {
      "text/html": [
       "<div>\n",
       "<style scoped>\n",
       "    .dataframe tbody tr th:only-of-type {\n",
       "        vertical-align: middle;\n",
       "    }\n",
       "\n",
       "    .dataframe tbody tr th {\n",
       "        vertical-align: top;\n",
       "    }\n",
       "\n",
       "    .dataframe thead th {\n",
       "        text-align: right;\n",
       "    }\n",
       "</style>\n",
       "<table border=\"1\" class=\"dataframe\">\n",
       "  <thead>\n",
       "    <tr style=\"text-align: right;\">\n",
       "      <th></th>\n",
       "      <th>galaxy ID_1</th>\n",
       "      <th>NYU-VAGC ID object ID</th>\n",
       "      <th>ra_galaxy</th>\n",
       "      <th>dec_galaxy</th>\n",
       "      <th>z_galaxy</th>\n",
       "      <th>apparent magnitude r_band</th>\n",
       "      <th>magnitude limit r_band</th>\n",
       "      <th>completeness</th>\n",
       "      <th>col9 Petro</th>\n",
       "      <th>col10 Petro</th>\n",
       "      <th>...</th>\n",
       "      <th>halo mass1</th>\n",
       "      <th>halo mass2</th>\n",
       "      <th>mean separation brighter</th>\n",
       "      <th>mean separation massive</th>\n",
       "      <th>f_edge</th>\n",
       "      <th>ID1</th>\n",
       "      <th>ID2</th>\n",
       "      <th>GroupID_topcat</th>\n",
       "      <th>GroupSize_topcat</th>\n",
       "      <th>group_size</th>\n",
       "    </tr>\n",
       "  </thead>\n",
       "  <tbody>\n",
       "    <tr>\n",
       "      <td>0</td>\n",
       "      <td>1</td>\n",
       "      <td>750</td>\n",
       "      <td>38.049133</td>\n",
       "      <td>0.224026</td>\n",
       "      <td>0.054022</td>\n",
       "      <td>15.939070</td>\n",
       "      <td>17.620001</td>\n",
       "      <td>0.994186</td>\n",
       "      <td>-20.207098</td>\n",
       "      <td>0.906209</td>\n",
       "      <td>...</td>\n",
       "      <td>11.9938</td>\n",
       "      <td>12.0956</td>\n",
       "      <td>6.2305</td>\n",
       "      <td>6.6916</td>\n",
       "      <td>1.0</td>\n",
       "      <td>1</td>\n",
       "      <td>1</td>\n",
       "      <td>-2147483648</td>\n",
       "      <td>1</td>\n",
       "      <td>1</td>\n",
       "    </tr>\n",
       "    <tr>\n",
       "      <td>1</td>\n",
       "      <td>2</td>\n",
       "      <td>751</td>\n",
       "      <td>38.352526</td>\n",
       "      <td>0.212491</td>\n",
       "      <td>0.053818</td>\n",
       "      <td>16.786047</td>\n",
       "      <td>17.620001</td>\n",
       "      <td>0.987805</td>\n",
       "      <td>-19.363531</td>\n",
       "      <td>0.820707</td>\n",
       "      <td>...</td>\n",
       "      <td>12.4622</td>\n",
       "      <td>12.3665</td>\n",
       "      <td>8.7007</td>\n",
       "      <td>8.1175</td>\n",
       "      <td>1.0</td>\n",
       "      <td>1</td>\n",
       "      <td>1</td>\n",
       "      <td>1</td>\n",
       "      <td>2</td>\n",
       "      <td>2</td>\n",
       "    </tr>\n",
       "    <tr>\n",
       "      <td>2</td>\n",
       "      <td>3</td>\n",
       "      <td>752</td>\n",
       "      <td>38.363598</td>\n",
       "      <td>0.210654</td>\n",
       "      <td>0.054050</td>\n",
       "      <td>15.090300</td>\n",
       "      <td>17.620001</td>\n",
       "      <td>0.987805</td>\n",
       "      <td>-20.966141</td>\n",
       "      <td>0.758547</td>\n",
       "      <td>...</td>\n",
       "      <td>12.4622</td>\n",
       "      <td>12.3665</td>\n",
       "      <td>8.7007</td>\n",
       "      <td>8.1175</td>\n",
       "      <td>1.0</td>\n",
       "      <td>1</td>\n",
       "      <td>1</td>\n",
       "      <td>1</td>\n",
       "      <td>2</td>\n",
       "      <td>2</td>\n",
       "    </tr>\n",
       "    <tr>\n",
       "      <td>3</td>\n",
       "      <td>4</td>\n",
       "      <td>994</td>\n",
       "      <td>54.450341</td>\n",
       "      <td>0.572606</td>\n",
       "      <td>0.138504</td>\n",
       "      <td>17.604034</td>\n",
       "      <td>17.620001</td>\n",
       "      <td>0.918367</td>\n",
       "      <td>-20.681068</td>\n",
       "      <td>0.880466</td>\n",
       "      <td>...</td>\n",
       "      <td>12.3102</td>\n",
       "      <td>12.3460</td>\n",
       "      <td>7.7948</td>\n",
       "      <td>7.9976</td>\n",
       "      <td>1.0</td>\n",
       "      <td>-1</td>\n",
       "      <td>-1</td>\n",
       "      <td>-2147483648</td>\n",
       "      <td>1</td>\n",
       "      <td>1</td>\n",
       "    </tr>\n",
       "    <tr>\n",
       "      <td>4</td>\n",
       "      <td>5</td>\n",
       "      <td>1010</td>\n",
       "      <td>54.534881</td>\n",
       "      <td>0.578615</td>\n",
       "      <td>0.128955</td>\n",
       "      <td>17.415402</td>\n",
       "      <td>17.620001</td>\n",
       "      <td>0.918367</td>\n",
       "      <td>-20.712832</td>\n",
       "      <td>0.918161</td>\n",
       "      <td>...</td>\n",
       "      <td>12.3289</td>\n",
       "      <td>12.4436</td>\n",
       "      <td>7.9008</td>\n",
       "      <td>8.5825</td>\n",
       "      <td>1.0</td>\n",
       "      <td>1</td>\n",
       "      <td>-1</td>\n",
       "      <td>-2147483648</td>\n",
       "      <td>1</td>\n",
       "      <td>1</td>\n",
       "    </tr>\n",
       "  </tbody>\n",
       "</table>\n",
       "<p>5 rows × 37 columns</p>\n",
       "</div>"
      ],
      "text/plain": [
       "   galaxy ID_1  NYU-VAGC ID object ID  ra_galaxy  dec_galaxy  z_galaxy  \\\n",
       "0            1                    750  38.049133    0.224026  0.054022   \n",
       "1            2                    751  38.352526    0.212491  0.053818   \n",
       "2            3                    752  38.363598    0.210654  0.054050   \n",
       "3            4                    994  54.450341    0.572606  0.138504   \n",
       "4            5                   1010  54.534881    0.578615  0.128955   \n",
       "\n",
       "   apparent magnitude r_band  magnitude limit r_band  completeness  \\\n",
       "0                  15.939070               17.620001      0.994186   \n",
       "1                  16.786047               17.620001      0.987805   \n",
       "2                  15.090300               17.620001      0.987805   \n",
       "3                  17.604034               17.620001      0.918367   \n",
       "4                  17.415402               17.620001      0.918367   \n",
       "\n",
       "   col9 Petro  col10 Petro  ...  halo mass1  halo mass2  \\\n",
       "0  -20.207098     0.906209  ...     11.9938     12.0956   \n",
       "1  -19.363531     0.820707  ...     12.4622     12.3665   \n",
       "2  -20.966141     0.758547  ...     12.4622     12.3665   \n",
       "3  -20.681068     0.880466  ...     12.3102     12.3460   \n",
       "4  -20.712832     0.918161  ...     12.3289     12.4436   \n",
       "\n",
       "   mean separation brighter  mean separation massive  f_edge  ID1  ID2  \\\n",
       "0                    6.2305                   6.6916     1.0    1    1   \n",
       "1                    8.7007                   8.1175     1.0    1    1   \n",
       "2                    8.7007                   8.1175     1.0    1    1   \n",
       "3                    7.7948                   7.9976     1.0   -1   -1   \n",
       "4                    7.9008                   8.5825     1.0    1   -1   \n",
       "\n",
       "   GroupID_topcat  GroupSize_topcat  group_size  \n",
       "0     -2147483648                 1           1  \n",
       "1               1                 2           2  \n",
       "2               1                 2           2  \n",
       "3     -2147483648                 1           1  \n",
       "4     -2147483648                 1           1  \n",
       "\n",
       "[5 rows x 37 columns]"
      ]
     },
     "metadata": {},
     "output_type": "display_data"
    },
    {
     "name": "stdout",
     "output_type": "stream",
     "text": [
      "True\n"
     ]
    }
   ],
   "source": [
    "group_data_pandas.loc[group_data_pandas[\"GroupSize_topcat\"] == -2147483648, \"GroupSize_topcat\"] = 1\n",
    "display(group_data_pandas.head())\n",
    "\n",
    "print((group_data_pandas[\"GroupSize_topcat\"] == group_data_pandas[\"group_size\"]).all())"
   ]
  },
  {
   "cell_type": "markdown",
   "metadata": {},
   "source": [
    "For interest, we plot a quick histogram of group size."
   ]
  },
  {
   "cell_type": "code",
   "execution_count": 4,
   "metadata": {},
   "outputs": [
    {
     "data": {
      "image/png": "[encoded data removed]",
      "text/plain": [
       "<Figure size 432x288 with 1 Axes>"
      ]
     },
     "metadata": {
      "needs_background": "light"
     },
     "output_type": "display_data"
    }
   ],
   "source": [
    "plt.hist(group_data[\"group_size\"], bins=[0,1,2,3,4,5,6,7,8,9,10,15,20,30,40,50,75,100,150,200,300,400,500,600,700], edgecolor=\"black\",histtype=\"stepfilled\")\n",
    "plt.xscale(\"log\")\n",
    "plt.yscale(\"log\")\n",
    "plt.xlabel(\"Size of group\")\n",
    "plt.ylabel(\"Frequency\")\n",
    "plt.title(\"Histogram of the number of galaxies in each group\")\n",
    "plt.show()"
   ]
  },
  {
   "cell_type": "markdown",
   "metadata": {},
   "source": [
    "Now we convert the pandas datafram back to an astropy table, as we want to save the data as a .fits file.\n",
    "<br>\n",
    "We then save the data."
   ]
  },
  {
   "cell_type": "code",
   "execution_count": 5,
   "metadata": {},
   "outputs": [],
   "source": [
    "group_data = Table.from_pandas(group_data_pandas)\n",
    "group_data.write(\"Data\\galaxy_group_data_C_with_size.fits\", format=\"fits\")"
   ]
  }
 ],
 "metadata": {
  "kernelspec": {
   "display_name": "Python 3",
   "language": "python",
   "name": "python3"
  },
  "language_info": {
   "codemirror_mode": {
    "name": "ipython",
    "version": 3
   },
   "file_extension": ".py",
   "mimetype": "text/x-python",
   "name": "python",
   "nbconvert_exporter": "python",
   "pygments_lexer": "ipython3",
   "version": "3.7.3"
  }
 },
 "nbformat": 4,
 "nbformat_minor": 2
}
